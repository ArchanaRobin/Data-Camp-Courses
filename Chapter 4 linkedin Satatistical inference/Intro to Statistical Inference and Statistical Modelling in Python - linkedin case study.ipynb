{
 "cells": [
  {
   "cell_type": "markdown",
   "id": "54e8cf7a",
   "metadata": {},
   "source": [
    "## Chapter 4: Introduction to statistical inference\n",
    "(Linkedin learning : Springboard: Lesson 11.1)\n",
    "  link:  linkedin.com/learning/python-statistics-essential-training/install-anaconda-python-on-os-x?u=36492188"
   ]
  },
  {
   "cell_type": "code",
   "execution_count": 1,
   "id": "e840c67c",
   "metadata": {},
   "outputs": [],
   "source": [
    "import math\n",
    "import io\n",
    "import numpy as np\n",
    "import pandas as pd\n",
    "import matplotlib\n",
    "import matplotlib.pyplot as plt\n",
    "import scipy.stats\n",
    "import scipy.optimize\n",
    "import scipy.spatial"
   ]
  },
  {
   "cell_type": "code",
   "execution_count": 2,
   "id": "fb11e62c",
   "metadata": {},
   "outputs": [],
   "source": [
    "poll = pd.read_csv('C:\\\\Projects\\\\Data Camp\\Chapter 4 linkedin Satatistical inference\\\\Exercise Files\\\\chapter4\\\\04_02\\\\poll.csv')\n",
    "pop = pd.read_csv('C:\\\\Projects\\\\Data Camp\\\\Chapter 4 linkedin Satatistical inference\\\\Exercise Files\\\\chapter4\\\\04_03\\\\grades.csv')\n",
    "cholera = pd.read_csv('C:\\\\Projects\\\\Data Camp\\\\Chapter 4 linkedin Satatistical inference\\\\Exercise Files\\\\chapter4\\\\04_04\\\\cholera.csv')\n",
    "pumps = pd.read_csv('C:\\\\Projects\\\\Data Camp\\\\Chapter 4 linkedin Satatistical inference\\\\Exercise Files\\\\chapter4\\\\04_04\\\\pumps.csv')\n",
    "largepoll = pd.read_csv('C:\\\\Projects\\\\Data Camp\\\\Chapter 4 linkedin Satatistical inference\\\\Exercise Files\\\\chapter4\\\\04_05\\\\poll-larger.csv')\n"
   ]
  },
  {
   "cell_type": "markdown",
   "id": "d5609d29",
   "metadata": {},
   "source": [
    "### 4.2 Linkedin learning: Confidence Intervel"
   ]
  },
  {
   "cell_type": "raw",
   "id": "213a6c42",
   "metadata": {},
   "source": [
    "Confidence intervals\n",
    "Selecting transcript lines in this section will navigate to timestamp in the video\n",
    "- [Instructor] In this chapter, you will be a journalist who knows a little about statistics. Imagine a very important election is taking place in your city with an incumbent mayor, Mr. Brown, against the local celebrity chef, Mrs. Green. You work for the local newspaper, and you're asked to poll your co-citizens for their vote. To make things easy for you, we'll assume you can reach every voter by phone and that every poll voter replies truthfully. Both are not trivial assumptions in reality, but in this case, there are no selection effects. Laboriously, you call 1,000 voters and ask for their voting intention. \n",
    "\n",
    "I'm giving you a file with your findings. I load packages as usual and read my file. As we have learned in chapter three, we may count votes using the DataFrame method value_counts. In fact, let's give the queue of normalize to get the fractions, the proportions for each candidate. The data seem to say that Brown is going to remain mayor. However, you realize that the limited sample means that the proportion depends on the specific people that you happen to draw. This is known as sampling variability. \n",
    "\n",
    "So given this poll, what can you really say about the underlying population of voters? To understand this, we need to study the sampling distribution of the proportion, namely, we wish to understand what range of different samples we may get for the same population, and we'll do this by simulation on a computer. To this end, let me build a simple function that simulates such a sample. The function would take the actual fraction of votes for Mayor Brown and the number of people polled. So we can use NumPy random rand for this, which returns a vector, let's say five, of random numbers between zero and one. So, if we test that a random number is less than the True fraction, say .51, we will get True or False for votes for Brown and Green, respectively. We can then apply the NumPy function of where to convert this Boolean value into a string. And we wrap everything in a DataFrame and make a function out of it.\n",
    "\n",
    "I replace the number of poll voters in the Brown fraction by the arguments of the function. So now, let's say that True Brown fraction over the entire population is indeed .51. Let's see one possible sample, and the counts for the two candidates. In this case, Brown is actually under the level of winning the election, although is True fraction is .51. So we repeat this many times and collect the results in the DataFrame. 1,000 simulated experiments should be sufficient. \n",
    "\n",
    "So let's look at the histogram. It turns out that for a True Brown fraction of .51, we may obtain any sample proportion from .48 to .55. The converse must be true also, so that .51 that you observe may actually originate from a Green majority. Can we make this more precise and identify a likely range of True fractions? I'm going to introduce here a very important notion in statistics, that of confidence interval.\n",
    "\n",
    "The confidence interval describes the uncertainty of inference by giving us a range such that saying 95% of the times, the range would include the True value. 95% is the confidence level, and we can choose it as we want. 95% of the times means that if we were to make polls in 100 elections and compute the confidence interval for each election, then for approximately 95 of those 100, the intervals would include a True value. Of course, we wouldn't know which 95. \n",
    "\n",
    "So let me repeat, a confidence interval is formed from the data in such a way that 95% of the times, it would include the True value. How to do it here? There are analytical techniques that involve assumptions about the underlying distributions. However, in the case and many others, it is much simpler to simulate.\n",
    "\n",
    "We know how to simulate the sampling distribution for any True Brown fraction. So let's make a function for that. I'll take code from above and replace the Brown fraction. Ah, we need a colon here. Let's say we want to go for the 95% confidence interval. This will lie between the 2.5% quantile and the 97.5% quantile. \n",
    "\n",
    "\n",
    "So we look for the True fraction for which a measured value of .51 lies at a 2.5% quantile, and the True fraction for which our measured value lies at the 97.5 quantile. It turns out that those two fractions are the edges of the confidence interval. If you think about many different experiments where we repeat this procedure, you can convince yourself that this is indeed the case. So I'll make a function that extracts those quantiles by first calling samplinglist and then calling DataFrame quantile on it.\n",
    "\n",
    "Let me explore a few values until we find .51 on each end. We do this approximately, but of course, you could be the function that does it more exactly, 0.49. And on the other side, a little more. So, for an observed sample, proportion of .51, when the sample size is 1,000, the 95 confidence interval for the True population function is .48 to .54. We can also express the same by saying that our point estimate is .51, and that the margin of error is .03 on either side in 95% confidence. \n",
    "\n",
    "Thus, the result of this election lies within the margin of error of the poll. That's not very satisfying for a journalist such as you. So we can do better by increasing the size of the sample. How much bigger would we need to be? Luckily, we have a way to simulate it. We'll create a sampling distribution for a True fraction of 50%, and with 10,000 samples. This takes a few seconds.\n",
    "\n",
    "Let's histogram again. You see from this, the margin of error is now more like 1%, which would have been sufficient to claim Brown as the likely winner. Under very general conditions, one can show that the margin of error improves with square root of the number of samples. But we actually have to collect the sample. You do so by stating it. Luckily, I'm giving you the file. And we find out that the likely winner is, in fact, Mrs. Green. If we were to compute the confidence interval for the Green fraction in this case, as we did above, we'd find that it is between .508 and .528. It doesn't include the threshold of .50. So now, you can go and write your article."
   ]
  },
  {
   "cell_type": "code",
   "execution_count": 463,
   "id": "09660013",
   "metadata": {},
   "outputs": [
    {
     "data": {
      "text/html": [
       "<div>\n",
       "<style scoped>\n",
       "    .dataframe tbody tr th:only-of-type {\n",
       "        vertical-align: middle;\n",
       "    }\n",
       "\n",
       "    .dataframe tbody tr th {\n",
       "        vertical-align: top;\n",
       "    }\n",
       "\n",
       "    .dataframe thead th {\n",
       "        text-align: right;\n",
       "    }\n",
       "</style>\n",
       "<table border=\"1\" class=\"dataframe\">\n",
       "  <thead>\n",
       "    <tr style=\"text-align: right;\">\n",
       "      <th></th>\n",
       "      <th>vote</th>\n",
       "    </tr>\n",
       "  </thead>\n",
       "  <tbody>\n",
       "    <tr>\n",
       "      <th>0</th>\n",
       "      <td>Brown</td>\n",
       "    </tr>\n",
       "    <tr>\n",
       "      <th>1</th>\n",
       "      <td>Green</td>\n",
       "    </tr>\n",
       "    <tr>\n",
       "      <th>2</th>\n",
       "      <td>Brown</td>\n",
       "    </tr>\n",
       "    <tr>\n",
       "      <th>3</th>\n",
       "      <td>Brown</td>\n",
       "    </tr>\n",
       "    <tr>\n",
       "      <th>4</th>\n",
       "      <td>Brown</td>\n",
       "    </tr>\n",
       "  </tbody>\n",
       "</table>\n",
       "</div>"
      ],
      "text/plain": [
       "    vote\n",
       "0  Brown\n",
       "1  Green\n",
       "2  Brown\n",
       "3  Brown\n",
       "4  Brown"
      ]
     },
     "execution_count": 463,
     "metadata": {},
     "output_type": "execute_result"
    }
   ],
   "source": [
    "poll.head()"
   ]
  },
  {
   "cell_type": "code",
   "execution_count": 464,
   "id": "979694ac",
   "metadata": {},
   "outputs": [
    {
     "data": {
      "text/plain": [
       "Brown    0.511\n",
       "Green    0.489\n",
       "Name: vote, dtype: float64"
      ]
     },
     "execution_count": 464,
     "metadata": {},
     "output_type": "execute_result"
    }
   ],
   "source": [
    "poll.vote.value_counts(normalize=True)"
   ]
  },
  {
   "cell_type": "code",
   "execution_count": 465,
   "id": "954cbf84",
   "metadata": {},
   "outputs": [
    {
     "data": {
      "text/plain": [
       "array([ True,  True,  True,  True, False])"
      ]
     },
     "execution_count": 465,
     "metadata": {},
     "output_type": "execute_result"
    }
   ],
   "source": [
    "np.random.rand(5) < 0.51"
   ]
  },
  {
   "cell_type": "code",
   "execution_count": 466,
   "id": "14596391",
   "metadata": {},
   "outputs": [
    {
     "data": {
      "text/plain": [
       "array(['green', 'Brown', 'Brown', 'Brown', 'green'], dtype='<U5')"
      ]
     },
     "execution_count": 466,
     "metadata": {},
     "output_type": "execute_result"
    }
   ],
   "source": [
    "# re-arrage boolean value to string\n",
    "np.where(np.random.rand(5) < 0.51, 'Brown', 'green')"
   ]
  },
  {
   "cell_type": "code",
   "execution_count": 467,
   "id": "556d8ec8",
   "metadata": {},
   "outputs": [],
   "source": [
    "#we wrap everything in a DataFrame and make a function out of it. \n",
    "#I replace the number of poll voters in the Brown fraction by the arguments of the function.\n",
    "def sample(brown, n=1000):\n",
    "    return pd.DataFrame({'vote': np.where(np.random.rand(n) < brown, 'Brown', 'green')})"
   ]
  },
  {
   "cell_type": "code",
   "execution_count": 468,
   "id": "45317f10",
   "metadata": {},
   "outputs": [],
   "source": [
    "s = sample(0.51, n=1000)"
   ]
  },
  {
   "cell_type": "code",
   "execution_count": 469,
   "id": "fce06c0b",
   "metadata": {},
   "outputs": [
    {
     "data": {
      "text/plain": [
       "Brown    0.516\n",
       "green    0.484\n",
       "Name: vote, dtype: float64"
      ]
     },
     "execution_count": 469,
     "metadata": {},
     "output_type": "execute_result"
    }
   ],
   "source": [
    "s.vote.value_counts(normalize=True)"
   ]
  },
  {
   "cell_type": "code",
   "execution_count": 470,
   "id": "a61ae881",
   "metadata": {},
   "outputs": [
    {
     "data": {
      "text/html": [
       "<div>\n",
       "<style scoped>\n",
       "    .dataframe tbody tr th:only-of-type {\n",
       "        vertical-align: middle;\n",
       "    }\n",
       "\n",
       "    .dataframe tbody tr th {\n",
       "        vertical-align: top;\n",
       "    }\n",
       "\n",
       "    .dataframe thead th {\n",
       "        text-align: right;\n",
       "    }\n",
       "</style>\n",
       "<table border=\"1\" class=\"dataframe\">\n",
       "  <thead>\n",
       "    <tr style=\"text-align: right;\">\n",
       "      <th></th>\n",
       "      <th>Brown</th>\n",
       "      <th>green</th>\n",
       "    </tr>\n",
       "  </thead>\n",
       "  <tbody>\n",
       "    <tr>\n",
       "      <th>vote</th>\n",
       "      <td>0.558</td>\n",
       "      <td>0.442</td>\n",
       "    </tr>\n",
       "    <tr>\n",
       "      <th>vote</th>\n",
       "      <td>0.496</td>\n",
       "      <td>0.504</td>\n",
       "    </tr>\n",
       "    <tr>\n",
       "      <th>vote</th>\n",
       "      <td>0.520</td>\n",
       "      <td>0.480</td>\n",
       "    </tr>\n",
       "    <tr>\n",
       "      <th>vote</th>\n",
       "      <td>0.526</td>\n",
       "      <td>0.474</td>\n",
       "    </tr>\n",
       "    <tr>\n",
       "      <th>vote</th>\n",
       "      <td>0.491</td>\n",
       "      <td>0.509</td>\n",
       "    </tr>\n",
       "  </tbody>\n",
       "</table>\n",
       "</div>"
      ],
      "text/plain": [
       "      Brown  green\n",
       "vote  0.558  0.442\n",
       "vote  0.496  0.504\n",
       "vote  0.520  0.480\n",
       "vote  0.526  0.474\n",
       "vote  0.491  0.509"
      ]
     },
     "execution_count": 470,
     "metadata": {},
     "output_type": "execute_result"
    }
   ],
   "source": [
    "# Let's see one possible sample, and the counts for the two candidates.\n",
    "# In this case, Brown is actually under the level of winning the election, although is True fraction is .51. So we repeat this many times and collect the results in the DataFrame.\n",
    "# 1,000 simulated experiments should be sufficient\n",
    "\n",
    "dist = pd.DataFrame([sample(0.51).vote.value_counts(normalize=True) for i in range(1000)])\n",
    "dist.head()"
   ]
  },
  {
   "cell_type": "code",
   "execution_count": 471,
   "id": "6e84390c",
   "metadata": {},
   "outputs": [
    {
     "data": {
      "text/plain": [
       "<AxesSubplot:>"
      ]
     },
     "execution_count": 471,
     "metadata": {},
     "output_type": "execute_result"
    },
    {
     "data": {
      "image/png": "[encoded data removed]",
      "text/plain": [
       "<Figure size 432x288 with 1 Axes>"
      ]
     },
     "metadata": {
      "needs_background": "light"
     },
     "output_type": "display_data"
    }
   ],
   "source": [
    "# let's look at the histogram. It turns out that for a True Brown fraction of .51,\n",
    "# we may obtain any sample proportion from .48 to .55.\n",
    "\n",
    "dist.Brown.hist(histtype = 'step', bins=20)"
   ]
  },
  {
   "cell_type": "code",
   "execution_count": 472,
   "id": "9921a265",
   "metadata": {},
   "outputs": [],
   "source": [
    "# simulate the sampling distribution for any True Brown fraction. \n",
    "# So let's make a function for that. I'll take code from above and replace the Brown fraction.\n",
    "\n",
    "def samplingdist(brown, n=1000):\n",
    "    \n",
    "    return pd.DataFrame([sample(brown, n).vote.value_counts(normalize=True) for i in range(1000)])"
   ]
  },
  {
   "cell_type": "code",
   "execution_count": 473,
   "id": "ef70ca92",
   "metadata": {},
   "outputs": [],
   "source": [
    "# Let's say we want to go for the 95% confidence interval. \n",
    "# This will lie between the 2.5% quantile and the 97.5% quantile.\n",
    "def quantiles(brown, n=1000):\n",
    "    dist = samplingdist(brown, n)\n",
    "    return dist.Brown.quantile(0.025), dist.Brown.quantile(0.975)"
   ]
  },
  {
   "cell_type": "markdown",
   "id": "e02fbdf4",
   "metadata": {},
   "source": [
    "#### note:\n",
    "So we look for the True fraction for which a measured value of .51 lies at a 2.5% quantile, and the True fraction for which our measured value lies at the 97.5 quantile. It turns out that those two fractions are the edges of the confidence interval. If you think about many different experiments where we repeat this procedure, you can convince yourself that this is indeed the case. So I'll make a function that extracts those quantiles by first calling samplinglist and then calling DataFrame quantile on it."
   ]
  },
  {
   "cell_type": "code",
   "execution_count": 474,
   "id": "c23c370b",
   "metadata": {},
   "outputs": [
    {
     "data": {
      "text/plain": [
       "(0.469, 0.53)"
      ]
     },
     "execution_count": 474,
     "metadata": {},
     "output_type": "execute_result"
    }
   ],
   "source": [
    "quantiles(0.5)"
   ]
  },
  {
   "cell_type": "code",
   "execution_count": 475,
   "id": "a6bb1818",
   "metadata": {},
   "outputs": [
    {
     "data": {
      "text/plain": [
       "(0.449, 0.5100250000000001)"
      ]
     },
     "execution_count": 475,
     "metadata": {},
     "output_type": "execute_result"
    }
   ],
   "source": [
    "quantiles(0.48)"
   ]
  },
  {
   "cell_type": "code",
   "execution_count": 476,
   "id": "78e2b9c3",
   "metadata": {},
   "outputs": [
    {
     "data": {
      "text/plain": [
       "(0.5079750000000001, 0.569)"
      ]
     },
     "execution_count": 476,
     "metadata": {},
     "output_type": "execute_result"
    }
   ],
   "source": [
    "quantiles(0.54)"
   ]
  },
  {
   "cell_type": "markdown",
   "id": "7564aea8",
   "metadata": {},
   "source": [
    "#### note:\n",
    "when the sample size is 1,000, the 95 confidence interval for the True population function is .48 to .54. We can also express the same by saying that our point estimate is .51, and that the margin of error is .03 on either side in 95% confidence. \n",
    "\n",
    "The margin of error is now more like 1%, which would have been sufficient to claim Brown as the likely winner. Under very general conditions, one can show that the margin of error improves with square root of the number of samples. But we actually have to collect the sample. You do so by stating it. Luckily, I'm giving you the file. And we find out that the likely winner is, in fact, Mrs. Green. If we were to compute the confidence interval for the Green fraction in this case, as we did above, we'd find that it is between .508 and .528. It doesn't include the threshold of .50. So now, you can go and write your article."
   ]
  },
  {
   "cell_type": "code",
   "execution_count": 477,
   "id": "bc0e9f50",
   "metadata": {},
   "outputs": [],
   "source": [
    "dist = samplingdist(0.5, 10000)"
   ]
  },
  {
   "cell_type": "code",
   "execution_count": 478,
   "id": "21b9a2ce",
   "metadata": {},
   "outputs": [
    {
     "data": {
      "text/plain": [
       "<AxesSubplot:>"
      ]
     },
     "execution_count": 478,
     "metadata": {},
     "output_type": "execute_result"
    },
    {
     "data": {
      "image/png": "[encoded data removed]",
      "text/plain": [
       "<Figure size 432x288 with 1 Axes>"
      ]
     },
     "metadata": {
      "needs_background": "light"
     },
     "output_type": "display_data"
    }
   ],
   "source": [
    "dist.Brown.hist(histtype = 'step', bins=20)"
   ]
  },
  {
   "cell_type": "code",
   "execution_count": 479,
   "id": "68c5f485",
   "metadata": {},
   "outputs": [
    {
     "data": {
      "text/plain": [
       "Green    0.5181\n",
       "Brown    0.4819\n",
       "Name: vote, dtype: float64"
      ]
     },
     "execution_count": 479,
     "metadata": {},
     "output_type": "execute_result"
    }
   ],
   "source": [
    "largepoll.vote.value_counts(normalize=True)"
   ]
  },
  {
   "cell_type": "markdown",
   "id": "3b5dc329",
   "metadata": {},
   "source": [
    "## Chapter 4.3 Bootstrapping"
   ]
  },
  {
   "cell_type": "markdown",
   "id": "0cec96f8",
   "metadata": {},
   "source": [
    "#### Note:\n",
    "take only 100 samples. Then we import packages, and load the data. It seems the citizens gave you the grades with great precision. We're wrong with this"
   ]
  },
  {
   "cell_type": "code",
   "execution_count": 480,
   "id": "f18e9454",
   "metadata": {},
   "outputs": [
    {
     "data": {
      "text/html": [
       "<div>\n",
       "<style scoped>\n",
       "    .dataframe tbody tr th:only-of-type {\n",
       "        vertical-align: middle;\n",
       "    }\n",
       "\n",
       "    .dataframe tbody tr th {\n",
       "        vertical-align: top;\n",
       "    }\n",
       "\n",
       "    .dataframe thead th {\n",
       "        text-align: right;\n",
       "    }\n",
       "</style>\n",
       "<table border=\"1\" class=\"dataframe\">\n",
       "  <thead>\n",
       "    <tr style=\"text-align: right;\">\n",
       "      <th></th>\n",
       "      <th>grade</th>\n",
       "    </tr>\n",
       "  </thead>\n",
       "  <tbody>\n",
       "    <tr>\n",
       "      <th>0</th>\n",
       "      <td>3.648651</td>\n",
       "    </tr>\n",
       "    <tr>\n",
       "      <th>1</th>\n",
       "      <td>5.959915</td>\n",
       "    </tr>\n",
       "    <tr>\n",
       "      <th>2</th>\n",
       "      <td>7.387370</td>\n",
       "    </tr>\n",
       "    <tr>\n",
       "      <th>3</th>\n",
       "      <td>4.047515</td>\n",
       "    </tr>\n",
       "    <tr>\n",
       "      <th>4</th>\n",
       "      <td>2.846912</td>\n",
       "    </tr>\n",
       "  </tbody>\n",
       "</table>\n",
       "</div>"
      ],
      "text/plain": [
       "      grade\n",
       "0  3.648651\n",
       "1  5.959915\n",
       "2  7.387370\n",
       "3  4.047515\n",
       "4  2.846912"
      ]
     },
     "execution_count": 480,
     "metadata": {},
     "output_type": "execute_result"
    }
   ],
   "source": [
    "pop.head()"
   ]
  },
  {
   "cell_type": "code",
   "execution_count": 481,
   "id": "993ed46c",
   "metadata": {},
   "outputs": [
    {
     "data": {
      "text/plain": [
       "Brown    511\n",
       "Green    489\n",
       "Name: vote, dtype: int64"
      ]
     },
     "execution_count": 481,
     "metadata": {},
     "output_type": "execute_result"
    }
   ],
   "source": [
    "poll.vote.value_counts()"
   ]
  },
  {
   "cell_type": "code",
   "execution_count": 482,
   "id": "893c871e",
   "metadata": {},
   "outputs": [
    {
     "data": {
      "text/plain": [
       "<AxesSubplot:>"
      ]
     },
     "execution_count": 482,
     "metadata": {},
     "output_type": "execute_result"
    },
    {
     "data": {
      "image/png": "[encoded data removed]",
      "text/plain": [
       "<Figure size 432x288 with 1 Axes>"
      ]
     },
     "metadata": {
      "needs_background": "light"
     },
     "output_type": "display_data"
    }
   ],
   "source": [
    "pop.grade.hist(histtype = 'step')"
   ]
  },
  {
   "cell_type": "code",
   "execution_count": 483,
   "id": "e8fd8006",
   "metadata": {},
   "outputs": [
    {
     "data": {
      "text/html": [
       "<div>\n",
       "<style scoped>\n",
       "    .dataframe tbody tr th:only-of-type {\n",
       "        vertical-align: middle;\n",
       "    }\n",
       "\n",
       "    .dataframe tbody tr th {\n",
       "        vertical-align: top;\n",
       "    }\n",
       "\n",
       "    .dataframe thead th {\n",
       "        text-align: right;\n",
       "    }\n",
       "</style>\n",
       "<table border=\"1\" class=\"dataframe\">\n",
       "  <thead>\n",
       "    <tr style=\"text-align: right;\">\n",
       "      <th></th>\n",
       "      <th>grade</th>\n",
       "    </tr>\n",
       "  </thead>\n",
       "  <tbody>\n",
       "    <tr>\n",
       "      <th>count</th>\n",
       "      <td>100.000000</td>\n",
       "    </tr>\n",
       "    <tr>\n",
       "      <th>mean</th>\n",
       "      <td>5.508561</td>\n",
       "    </tr>\n",
       "    <tr>\n",
       "      <th>std</th>\n",
       "      <td>1.984988</td>\n",
       "    </tr>\n",
       "    <tr>\n",
       "      <th>min</th>\n",
       "      <td>1.160899</td>\n",
       "    </tr>\n",
       "    <tr>\n",
       "      <th>25%</th>\n",
       "      <td>3.921372</td>\n",
       "    </tr>\n",
       "    <tr>\n",
       "      <th>50%</th>\n",
       "      <td>5.688527</td>\n",
       "    </tr>\n",
       "    <tr>\n",
       "      <th>75%</th>\n",
       "      <td>7.272162</td>\n",
       "    </tr>\n",
       "    <tr>\n",
       "      <th>max</th>\n",
       "      <td>9.120705</td>\n",
       "    </tr>\n",
       "  </tbody>\n",
       "</table>\n",
       "</div>"
      ],
      "text/plain": [
       "            grade\n",
       "count  100.000000\n",
       "mean     5.508561\n",
       "std      1.984988\n",
       "min      1.160899\n",
       "25%      3.921372\n",
       "50%      5.688527\n",
       "75%      7.272162\n",
       "max      9.120705"
      ]
     },
     "execution_count": 483,
     "metadata": {},
     "output_type": "execute_result"
    }
   ],
   "source": [
    "pop.describe()"
   ]
  },
  {
   "cell_type": "markdown",
   "id": "8a263175",
   "metadata": {},
   "source": [
    "#### \n",
    "So we look at the histogram, and this cribda sample with summary statistics.\n",
    "The histogram has no recognizable simple form, but the mean for the sample is 5.5. What can we say about the true mean value? This time we cannot build a confidence interval by simulating the sampling distribution because we do not know how to describe it. And, indeed, given the observed histogram it is unlikely that it has a simple form such as a no amount distribution. However, we can still use computing by adopting a powerful idea in modern statistics, bootstrapping, which was introduced by Efron in 1979."
   ]
  },
  {
   "cell_type": "markdown",
   "id": "4646cf64",
   "metadata": {},
   "source": [
    "#### Note:\n",
    "What we'll do is to estimate the uncertainty of our statistic, the mean, by generating a large family of samples from the one we have. And then, characterizing the distribution of the mean over this family. Each sample in the family is prepared as follow: we draw grades randomly for our single existing sample allowing the same grade to be drawn more than once. Technically speaking, we are sampling with replacement. Let's try to do it once.\n"
   ]
  },
  {
   "cell_type": "code",
   "execution_count": 484,
   "id": "8d9675c8",
   "metadata": {},
   "outputs": [
    {
     "data": {
      "text/html": [
       "<div>\n",
       "<style scoped>\n",
       "    .dataframe tbody tr th:only-of-type {\n",
       "        vertical-align: middle;\n",
       "    }\n",
       "\n",
       "    .dataframe tbody tr th {\n",
       "        vertical-align: top;\n",
       "    }\n",
       "\n",
       "    .dataframe thead th {\n",
       "        text-align: right;\n",
       "    }\n",
       "</style>\n",
       "<table border=\"1\" class=\"dataframe\">\n",
       "  <thead>\n",
       "    <tr style=\"text-align: right;\">\n",
       "      <th></th>\n",
       "      <th>grade</th>\n",
       "    </tr>\n",
       "  </thead>\n",
       "  <tbody>\n",
       "    <tr>\n",
       "      <th>count</th>\n",
       "      <td>100.000000</td>\n",
       "    </tr>\n",
       "    <tr>\n",
       "      <th>mean</th>\n",
       "      <td>5.608665</td>\n",
       "    </tr>\n",
       "    <tr>\n",
       "      <th>std</th>\n",
       "      <td>1.857081</td>\n",
       "    </tr>\n",
       "    <tr>\n",
       "      <th>min</th>\n",
       "      <td>1.983167</td>\n",
       "    </tr>\n",
       "    <tr>\n",
       "      <th>25%</th>\n",
       "      <td>4.047515</td>\n",
       "    </tr>\n",
       "    <tr>\n",
       "      <th>50%</th>\n",
       "      <td>5.754333</td>\n",
       "    </tr>\n",
       "    <tr>\n",
       "      <th>75%</th>\n",
       "      <td>7.467589</td>\n",
       "    </tr>\n",
       "    <tr>\n",
       "      <th>max</th>\n",
       "      <td>8.522332</td>\n",
       "    </tr>\n",
       "  </tbody>\n",
       "</table>\n",
       "</div>"
      ],
      "text/plain": [
       "            grade\n",
       "count  100.000000\n",
       "mean     5.608665\n",
       "std      1.857081\n",
       "min      1.983167\n",
       "25%      4.047515\n",
       "50%      5.754333\n",
       "75%      7.467589\n",
       "max      8.522332"
      ]
     },
     "execution_count": 484,
     "metadata": {},
     "output_type": "execute_result"
    }
   ],
   "source": [
    "pop.sample(100, replace=True).describe()"
   ]
  },
  {
   "cell_type": "markdown",
   "id": "ad0f6ce3",
   "metadata": {},
   "source": [
    "#### Note:\n",
    "There are 11 pandas method is sample over 100 from dataframe pop with replacement. We see that for this bootstrapped sample the mean is a little difference. So let's build the bootstrapped distribution of means. We generate a bootstrap sample take the mean repeat this 1000 times using a Python list comprehension. And then fold this into a dataframe. We'll call the variable mean grade. And save everything into dataframe bootstrap. "
   ]
  },
  {
   "cell_type": "code",
   "execution_count": 485,
   "id": "0bcf96da",
   "metadata": {},
   "outputs": [],
   "source": [
    "bootstrap = pd.DataFrame({'meangrade': [pop.sample(100,replace=True).grade.mean() for i in range(1000)]})"
   ]
  },
  {
   "cell_type": "markdown",
   "id": "053c3ff7",
   "metadata": {},
   "source": [
    "#### Note:\n",
    "Let's take a histogram. Remember, these are not grades, but they are means of grades. Let me show you the original mean drawn as a line on top of this. The mean is actually the same, instead of our sample, if you think about it, it has to be. But there is significant spread around it. So let me extract the quantiles. That's it, bootstrap approximated, 95% confidence interval for the mean grade. It is between 5.1 and 5.9"
   ]
  },
  {
   "cell_type": "code",
   "execution_count": 486,
   "id": "6f8e91b4",
   "metadata": {},
   "outputs": [
    {
     "data": {
      "text/plain": [
       "<AxesSubplot:>"
      ]
     },
     "execution_count": 486,
     "metadata": {},
     "output_type": "execute_result"
    },
    {
     "data": {
      "image/png": "[encoded data removed]",
      "text/plain": [
       "<Figure size 432x288 with 1 Axes>"
      ]
     },
     "metadata": {
      "needs_background": "light"
     },
     "output_type": "display_data"
    }
   ],
   "source": [
    "bootstrap.meangrade.hist(histtype = 'step')"
   ]
  },
  {
   "cell_type": "code",
   "execution_count": 487,
   "id": "aba90f47",
   "metadata": {},
   "outputs": [
    {
     "data": {
      "text/plain": [
       "(5.124647909225822, 5.881324647359523)"
      ]
     },
     "execution_count": 487,
     "metadata": {},
     "output_type": "execute_result"
    }
   ],
   "source": [
    "bootstrap.meangrade.quantile(0.025), bootstrap.meangrade.quantile(0.975)"
   ]
  },
  {
   "cell_type": "markdown",
   "id": "136a8306",
   "metadata": {},
   "source": [
    "#### \n",
    "It seems that the mean grade is likely to be a passing one. The bootstrap procedure requires that the sample you have is representative. And the procedure is justified by a rather complex mathematics, and the rather general assumptions. For the skies I will show you that the guess is acceptable by showing you how I really generated the data set. The distribution that I used was actually a sum of two normal distributions with equal weights. "
   ]
  },
  {
   "cell_type": "markdown",
   "id": "9a8c893e",
   "metadata": {},
   "source": [
    "#### Note:\n",
    "We can use side by stats to handle and play with distributions. If you don't know much about the normal distributions, just follow along qualitatively. I will plot this between 0 and 10. For a side by stats distribution object, PDF, returns the probability density. Here we go, this is a bimodal distribution."
   ]
  },
  {
   "cell_type": "code",
   "execution_count": 488,
   "id": "12ee7b16",
   "metadata": {},
   "outputs": [
    {
     "data": {
      "text/plain": [
       "[<matplotlib.lines.Line2D at 0x1d1ef1de5e0>]"
      ]
     },
     "execution_count": 488,
     "metadata": {},
     "output_type": "execute_result"
    },
    {
     "data": {
      "image/png": "[encoded data removed]",
      "text/plain": [
       "<Figure size 432x288 with 1 Axes>"
      ]
     },
     "metadata": {
      "needs_background": "light"
     },
     "output_type": "display_data"
    }
   ],
   "source": [
    "n1 = scipy.stats.norm(7.5, 1)\n",
    "n2 = scipy.stats.norm(4, 1)\n",
    "\n",
    "x = np.linspace(0, 10, 100)\n",
    "plt.plot(x, 0.5*n1.pdf(x) + 0.5*n2.pdf(x))"
   ]
  },
  {
   "cell_type": "markdown",
   "id": "1b931ca0",
   "metadata": {},
   "source": [
    "#### Note:\n",
    "I also truncated this distribution, because there can't be grades below 0 or above 10. So I made a function to drop a simple grade. I have yes for a side by stats distribution object just so it turns a random sample from that distribution. And I also need to choose between the two, which I do just by drawing a uniform distributing number between 0 and 1, and comparing it with .5. Then I truncate. So I continue drawing until I get a sample that's acceptable. \n",
    "\n",
    "Let's try it once. And now I can make a data set by calling this repeatedly."
   ]
  },
  {
   "cell_type": "code",
   "execution_count": 489,
   "id": "119ad70c",
   "metadata": {},
   "outputs": [],
   "source": [
    "def draw():\n",
    "    while True:\n",
    "        v = n1.rvs() if np.random.rand() < 0.5 else n2.rvs()\n",
    "        if 0 <= v <= 10:\n",
    "            return v\n",
    "    "
   ]
  },
  {
   "cell_type": "code",
   "execution_count": 490,
   "id": "08667761",
   "metadata": {},
   "outputs": [
    {
     "data": {
      "text/plain": [
       "8.274815523613018"
      ]
     },
     "execution_count": 490,
     "metadata": {},
     "output_type": "execute_result"
    }
   ],
   "source": [
    "draw()"
   ]
  },
  {
   "cell_type": "code",
   "execution_count": 491,
   "id": "ae475bcd",
   "metadata": {},
   "outputs": [],
   "source": [
    "def dataset(n=100):\n",
    "    return pd.DataFrame({'grade': [draw() for i in range(n)]})\n"
   ]
  },
  {
   "cell_type": "markdown",
   "id": "0c39b0f0",
   "metadata": {},
   "source": [
    "#### Note:\n",
    "Let's histogram a few of these samples. We select the column grade, we do histogram. And as for the sampling distribution of the mean, we can use simulation in a straightforward way. Let's look at the histogram and compare with the bootstrapped distribution. We see that the 2 sampling distribution is displaced on the bootstrap estimate, but the spreads are comparable, which justifies our approximated confidence interval."
   ]
  },
  {
   "cell_type": "code",
   "execution_count": 492,
   "id": "e5108c4a",
   "metadata": {},
   "outputs": [
    {
     "data": {
      "image/png": "[encoded data removed]",
      "text/plain": [
       "<Figure size 432x288 with 1 Axes>"
      ]
     },
     "metadata": {
      "needs_background": "light"
     },
     "output_type": "display_data"
    }
   ],
   "source": [
    "for i in range(5):\n",
    "    dataset(100).grade.hist(histtype = 'step', density=True)"
   ]
  },
  {
   "cell_type": "code",
   "execution_count": 493,
   "id": "422bc2e4",
   "metadata": {},
   "outputs": [],
   "source": [
    "means = pd.DataFrame({'meangrade': [dataset(100).grade.mean() for i in range(1000)]})"
   ]
  },
  {
   "cell_type": "code",
   "execution_count": 494,
   "id": "b6476009",
   "metadata": {},
   "outputs": [
    {
     "data": {
      "text/plain": [
       "<AxesSubplot:>"
      ]
     },
     "execution_count": 494,
     "metadata": {},
     "output_type": "execute_result"
    },
    {
     "data": {
      "image/png": "[encoded data removed]",
      "text/plain": [
       "<Figure size 432x288 with 1 Axes>"
      ]
     },
     "metadata": {
      "needs_background": "light"
     },
     "output_type": "display_data"
    }
   ],
   "source": [
    "means.meangrade.hist(histtype = 'step')\n",
    "bootstrap.meangrade.hist(histtype = 'step')"
   ]
  },
  {
   "cell_type": "markdown",
   "id": "44ed4915",
   "metadata": {},
   "source": [
    "\n",
    "\n",
    ".\n",
    "\n",
    "\n",
    "\n"
   ]
  },
  {
   "cell_type": "markdown",
   "id": "3ffad1a7",
   "metadata": {},
   "source": [
    "## Chapter 4.4  Hypothesis testing\n",
    "\n",
    "we leave local covenants and we go back to 1854 in London, a very rough time because of the repeated and deadly epidemics of cholera. Physician John Snow used simple statistics and beautiful plotting, to pinpoint the origin of one such outbreak to a contaminated water pump on Broad Street. It's a fascinating story, go look it up. We are going to follow in John Snow's footsteps to learn about testing hypotheses. So here are two datasets. Let me first import packages. The first dataset contains the positions of eight water pumps in Central London"
   ]
  },
  {
   "cell_type": "code",
   "execution_count": 495,
   "id": "99b89f03",
   "metadata": {},
   "outputs": [
    {
     "data": {
      "text/html": [
       "<div>\n",
       "<style scoped>\n",
       "    .dataframe tbody tr th:only-of-type {\n",
       "        vertical-align: middle;\n",
       "    }\n",
       "\n",
       "    .dataframe tbody tr th {\n",
       "        vertical-align: top;\n",
       "    }\n",
       "\n",
       "    .dataframe thead th {\n",
       "        text-align: right;\n",
       "    }\n",
       "</style>\n",
       "<table border=\"1\" class=\"dataframe\">\n",
       "  <thead>\n",
       "    <tr style=\"text-align: right;\">\n",
       "      <th></th>\n",
       "      <th>lat</th>\n",
       "      <th>lon</th>\n",
       "      <th>x</th>\n",
       "      <th>y</th>\n",
       "    </tr>\n",
       "  </thead>\n",
       "  <tbody>\n",
       "    <tr>\n",
       "      <th>0</th>\n",
       "      <td>51.513341</td>\n",
       "      <td>-0.136668</td>\n",
       "      <td>0.000000</td>\n",
       "      <td>0.000000</td>\n",
       "    </tr>\n",
       "    <tr>\n",
       "      <th>1</th>\n",
       "      <td>51.513876</td>\n",
       "      <td>-0.139586</td>\n",
       "      <td>-0.201858</td>\n",
       "      <td>0.059469</td>\n",
       "    </tr>\n",
       "    <tr>\n",
       "      <th>2</th>\n",
       "      <td>51.514906</td>\n",
       "      <td>-0.139671</td>\n",
       "      <td>-0.207738</td>\n",
       "      <td>0.173961</td>\n",
       "    </tr>\n",
       "    <tr>\n",
       "      <th>3</th>\n",
       "      <td>51.512354</td>\n",
       "      <td>-0.131630</td>\n",
       "      <td>0.348513</td>\n",
       "      <td>-0.109712</td>\n",
       "    </tr>\n",
       "    <tr>\n",
       "      <th>4</th>\n",
       "      <td>51.512139</td>\n",
       "      <td>-0.133594</td>\n",
       "      <td>0.212650</td>\n",
       "      <td>-0.133611</td>\n",
       "    </tr>\n",
       "  </tbody>\n",
       "</table>\n",
       "</div>"
      ],
      "text/plain": [
       "         lat       lon         x         y\n",
       "0  51.513341 -0.136668  0.000000  0.000000\n",
       "1  51.513876 -0.139586 -0.201858  0.059469\n",
       "2  51.514906 -0.139671 -0.207738  0.173961\n",
       "3  51.512354 -0.131630  0.348513 -0.109712\n",
       "4  51.512139 -0.133594  0.212650 -0.133611"
      ]
     },
     "execution_count": 495,
     "metadata": {},
     "output_type": "execute_result"
    }
   ],
   "source": [
    "pumps.head()"
   ]
  },
  {
   "cell_type": "markdown",
   "id": "66041ace",
   "metadata": {},
   "source": [
    "####  \n",
    "These are given as latitude/longitude, and also distances from a reference point, pump number zero, in kilometers. The other dataset contains the number of deaths at different locations, as well as the closest pump to that location. Let's look at one record every 20. We can plot this quickly. We want the square figure, and a scatter plot of the pumps, and the deaths. And we'll make these a little smaller. In fact, it would be fun to over-plot this on a map of London"
   ]
  },
  {
   "cell_type": "code",
   "execution_count": 496,
   "id": "f6d36eff",
   "metadata": {},
   "outputs": [
    {
     "data": {
      "text/html": [
       "<div>\n",
       "<style scoped>\n",
       "    .dataframe tbody tr th:only-of-type {\n",
       "        vertical-align: middle;\n",
       "    }\n",
       "\n",
       "    .dataframe tbody tr th {\n",
       "        vertical-align: top;\n",
       "    }\n",
       "\n",
       "    .dataframe thead th {\n",
       "        text-align: right;\n",
       "    }\n",
       "</style>\n",
       "<table border=\"1\" class=\"dataframe\">\n",
       "  <thead>\n",
       "    <tr style=\"text-align: right;\">\n",
       "      <th></th>\n",
       "      <th>deaths</th>\n",
       "      <th>lat</th>\n",
       "      <th>lon</th>\n",
       "      <th>x</th>\n",
       "      <th>y</th>\n",
       "      <th>closest</th>\n",
       "    </tr>\n",
       "  </thead>\n",
       "  <tbody>\n",
       "    <tr>\n",
       "      <th>0</th>\n",
       "      <td>3</td>\n",
       "      <td>51.513418</td>\n",
       "      <td>-0.137930</td>\n",
       "      <td>-0.087301</td>\n",
       "      <td>0.008559</td>\n",
       "      <td>0</td>\n",
       "    </tr>\n",
       "    <tr>\n",
       "      <th>1</th>\n",
       "      <td>2</td>\n",
       "      <td>51.513361</td>\n",
       "      <td>-0.137883</td>\n",
       "      <td>-0.084050</td>\n",
       "      <td>0.002223</td>\n",
       "      <td>0</td>\n",
       "    </tr>\n",
       "    <tr>\n",
       "      <th>2</th>\n",
       "      <td>1</td>\n",
       "      <td>51.513317</td>\n",
       "      <td>-0.137853</td>\n",
       "      <td>-0.081975</td>\n",
       "      <td>-0.002668</td>\n",
       "      <td>0</td>\n",
       "    </tr>\n",
       "    <tr>\n",
       "      <th>3</th>\n",
       "      <td>1</td>\n",
       "      <td>51.513262</td>\n",
       "      <td>-0.137812</td>\n",
       "      <td>-0.079138</td>\n",
       "      <td>-0.008781</td>\n",
       "      <td>0</td>\n",
       "    </tr>\n",
       "    <tr>\n",
       "      <th>4</th>\n",
       "      <td>4</td>\n",
       "      <td>51.513204</td>\n",
       "      <td>-0.137767</td>\n",
       "      <td>-0.076025</td>\n",
       "      <td>-0.015229</td>\n",
       "      <td>0</td>\n",
       "    </tr>\n",
       "    <tr>\n",
       "      <th>5</th>\n",
       "      <td>2</td>\n",
       "      <td>51.513184</td>\n",
       "      <td>-0.137537</td>\n",
       "      <td>-0.060115</td>\n",
       "      <td>-0.017452</td>\n",
       "      <td>0</td>\n",
       "    </tr>\n",
       "    <tr>\n",
       "      <th>6</th>\n",
       "      <td>2</td>\n",
       "      <td>51.513359</td>\n",
       "      <td>-0.138200</td>\n",
       "      <td>-0.105979</td>\n",
       "      <td>0.002001</td>\n",
       "      <td>0</td>\n",
       "    </tr>\n",
       "    <tr>\n",
       "      <th>7</th>\n",
       "      <td>2</td>\n",
       "      <td>51.513328</td>\n",
       "      <td>-0.138045</td>\n",
       "      <td>-0.095257</td>\n",
       "      <td>-0.001445</td>\n",
       "      <td>0</td>\n",
       "    </tr>\n",
       "    <tr>\n",
       "      <th>8</th>\n",
       "      <td>3</td>\n",
       "      <td>51.513323</td>\n",
       "      <td>-0.138276</td>\n",
       "      <td>-0.111236</td>\n",
       "      <td>-0.002001</td>\n",
       "      <td>1</td>\n",
       "    </tr>\n",
       "    <tr>\n",
       "      <th>9</th>\n",
       "      <td>2</td>\n",
       "      <td>51.513427</td>\n",
       "      <td>-0.138223</td>\n",
       "      <td>-0.107570</td>\n",
       "      <td>0.009560</td>\n",
       "      <td>1</td>\n",
       "    </tr>\n",
       "    <tr>\n",
       "      <th>10</th>\n",
       "      <td>2</td>\n",
       "      <td>51.513381</td>\n",
       "      <td>-0.138337</td>\n",
       "      <td>-0.115456</td>\n",
       "      <td>0.004446</td>\n",
       "      <td>1</td>\n",
       "    </tr>\n",
       "    <tr>\n",
       "      <th>11</th>\n",
       "      <td>1</td>\n",
       "      <td>51.513462</td>\n",
       "      <td>-0.138563</td>\n",
       "      <td>-0.131090</td>\n",
       "      <td>0.013450</td>\n",
       "      <td>1</td>\n",
       "    </tr>\n",
       "    <tr>\n",
       "      <th>12</th>\n",
       "      <td>3</td>\n",
       "      <td>51.513216</td>\n",
       "      <td>-0.138426</td>\n",
       "      <td>-0.121613</td>\n",
       "      <td>-0.013895</td>\n",
       "      <td>1</td>\n",
       "    </tr>\n",
       "    <tr>\n",
       "      <th>13</th>\n",
       "      <td>1</td>\n",
       "      <td>51.513169</td>\n",
       "      <td>-0.138378</td>\n",
       "      <td>-0.118292</td>\n",
       "      <td>-0.019119</td>\n",
       "      <td>1</td>\n",
       "    </tr>\n",
       "    <tr>\n",
       "      <th>14</th>\n",
       "      <td>4</td>\n",
       "      <td>51.513116</td>\n",
       "      <td>-0.138337</td>\n",
       "      <td>-0.115456</td>\n",
       "      <td>-0.025010</td>\n",
       "      <td>0</td>\n",
       "    </tr>\n",
       "    <tr>\n",
       "      <th>15</th>\n",
       "      <td>1</td>\n",
       "      <td>51.513240</td>\n",
       "      <td>-0.138645</td>\n",
       "      <td>-0.136763</td>\n",
       "      <td>-0.011227</td>\n",
       "      <td>1</td>\n",
       "    </tr>\n",
       "    <tr>\n",
       "      <th>16</th>\n",
       "      <td>1</td>\n",
       "      <td>51.513164</td>\n",
       "      <td>-0.138698</td>\n",
       "      <td>-0.140429</td>\n",
       "      <td>-0.019675</td>\n",
       "      <td>1</td>\n",
       "    </tr>\n",
       "    <tr>\n",
       "      <th>17</th>\n",
       "      <td>1</td>\n",
       "      <td>51.513178</td>\n",
       "      <td>-0.137924</td>\n",
       "      <td>-0.086886</td>\n",
       "      <td>-0.018119</td>\n",
       "      <td>0</td>\n",
       "    </tr>\n",
       "    <tr>\n",
       "      <th>18</th>\n",
       "      <td>4</td>\n",
       "      <td>51.513111</td>\n",
       "      <td>-0.137865</td>\n",
       "      <td>-0.082805</td>\n",
       "      <td>-0.025566</td>\n",
       "      <td>0</td>\n",
       "    </tr>\n",
       "    <tr>\n",
       "      <th>19</th>\n",
       "      <td>3</td>\n",
       "      <td>51.513055</td>\n",
       "      <td>-0.137811</td>\n",
       "      <td>-0.079069</td>\n",
       "      <td>-0.031791</td>\n",
       "      <td>0</td>\n",
       "    </tr>\n",
       "  </tbody>\n",
       "</table>\n",
       "</div>"
      ],
      "text/plain": [
       "    deaths        lat       lon         x         y  closest\n",
       "0        3  51.513418 -0.137930 -0.087301  0.008559        0\n",
       "1        2  51.513361 -0.137883 -0.084050  0.002223        0\n",
       "2        1  51.513317 -0.137853 -0.081975 -0.002668        0\n",
       "3        1  51.513262 -0.137812 -0.079138 -0.008781        0\n",
       "4        4  51.513204 -0.137767 -0.076025 -0.015229        0\n",
       "5        2  51.513184 -0.137537 -0.060115 -0.017452        0\n",
       "6        2  51.513359 -0.138200 -0.105979  0.002001        0\n",
       "7        2  51.513328 -0.138045 -0.095257 -0.001445        0\n",
       "8        3  51.513323 -0.138276 -0.111236 -0.002001        1\n",
       "9        2  51.513427 -0.138223 -0.107570  0.009560        1\n",
       "10       2  51.513381 -0.138337 -0.115456  0.004446        1\n",
       "11       1  51.513462 -0.138563 -0.131090  0.013450        1\n",
       "12       3  51.513216 -0.138426 -0.121613 -0.013895        1\n",
       "13       1  51.513169 -0.138378 -0.118292 -0.019119        1\n",
       "14       4  51.513116 -0.138337 -0.115456 -0.025010        0\n",
       "15       1  51.513240 -0.138645 -0.136763 -0.011227        1\n",
       "16       1  51.513164 -0.138698 -0.140429 -0.019675        1\n",
       "17       1  51.513178 -0.137924 -0.086886 -0.018119        0\n",
       "18       4  51.513111 -0.137865 -0.082805 -0.025566        0\n",
       "19       3  51.513055 -0.137811 -0.079069 -0.031791        0"
      ]
     },
     "execution_count": 496,
     "metadata": {},
     "output_type": "execute_result"
    }
   ],
   "source": [
    "cholera.head(20)"
   ]
  },
  {
   "cell_type": "markdown",
   "id": "bff78f20",
   "metadata": {},
   "source": [
    "#### Note:\n",
    "I have obtained such a bitmap from Google Maps, using the central coordinates. So I load this with matplotlib. Now I can show the image using imshow, but I also need to know its size. So Google Maps, I found out it's about 7.6 kilometers in both height and width. Now I can over-plot my pumps and unlucky addresses. Very nice, this map compares quite well with John Snow's original. In fact, the map seems already rather damning for the pump in the center, which is pump number zero."
   ]
  },
  {
   "cell_type": "code",
   "execution_count": 497,
   "id": "21b99b5f",
   "metadata": {},
   "outputs": [
    {
     "data": {
      "text/plain": [
       "<matplotlib.collections.PathCollection at 0x1d1eee8aa00>"
      ]
     },
     "execution_count": 497,
     "metadata": {},
     "output_type": "execute_result"
    },
    {
     "data": {
      "image/png": "[encoded data removed]",
      "text/plain": [
       "<Figure size 432x432 with 1 Axes>"
      ]
     },
     "metadata": {
      "needs_background": "light"
     },
     "output_type": "display_data"
    }
   ],
   "source": [
    "plt.figure(figsize=(6,6))\n",
    "plt.scatter(pumps.x, pumps.y, color = 'b')\n",
    "plt.scatter(cholera.x, cholera.y, color = 'r', s=3)\n"
   ]
  },
  {
   "cell_type": "code",
   "execution_count": 498,
   "id": "377d568b",
   "metadata": {},
   "outputs": [
    {
     "data": {
      "text/plain": [
       "0    171\n",
       "1     36\n",
       "4     19\n",
       "5     13\n",
       "7      9\n",
       "2      2\n",
       "Name: closest, dtype: int64"
      ]
     },
     "execution_count": 498,
     "metadata": {},
     "output_type": "execute_result"
    }
   ],
   "source": [
    "cholera.closest.value_counts()"
   ]
  },
  {
   "cell_type": "markdown",
   "id": "63b3db53",
   "metadata": {},
   "source": [
    "#### Note:\n",
    "So let's look at this. This is a tally of addresses, but we really need the total number of deaths closest to each pump. So we group the data by the column closest, and then sum up the deaths. Okay, so there's no doubt. If deaths occur randomly in each area, there's no way we could get 340 in area zero and so few in all the others."
   ]
  },
  {
   "cell_type": "code",
   "execution_count": 499,
   "id": "cf4f68b2",
   "metadata": {},
   "outputs": [
    {
     "data": {
      "text/plain": [
       "closest\n",
       "0    340\n",
       "1     65\n",
       "2      5\n",
       "4     40\n",
       "5     27\n",
       "7     12\n",
       "Name: deaths, dtype: int64"
      ]
     },
     "execution_count": 499,
     "metadata": {},
     "output_type": "execute_result"
    }
   ],
   "source": [
    "cholera.groupby('closest').deaths.sum()"
   ]
  },
  {
   "cell_type": "markdown",
   "id": "13435683",
   "metadata": {},
   "source": [
    "#### Note:\n",
    "So to make the game more interesting statistically, we will assume that the populations of each area are very different, with many more people living in the area closest to pump zero. Thus, we do expect more deaths there. So let's make a simulation. We'll use only areas zero, one, four and five, which have the most cases of cholera, and simulate each death randomly, proportionally to the population of each area. I'll write the function for this. Enclose the results in a DataFrame and use numpy random.choice to select a number between zero, one, four and five, n times, with probabilities proportional to populations in the areas. So 65 percent of people in area zero, 15 in area one, and 10 percent each in areas four and five."
   ]
  },
  {
   "cell_type": "code",
   "execution_count": 500,
   "id": "0f0ead5b",
   "metadata": {},
   "outputs": [],
   "source": [
    "def simulate(n):\n",
    "    return pd.DataFrame({'closest': np.random.choice([0, 1, 4, 5], size=n, p = [0.65, 0.15, 0.10, 0.10])} )"
   ]
  },
  {
   "cell_type": "markdown",
   "id": "f464f946",
   "metadata": {},
   "source": [
    "#### Note:\n",
    "let's try this once for the total number of deaths, which is 489, closest. So we get something close to what we actually observed in the true data"
   ]
  },
  {
   "cell_type": "code",
   "execution_count": 501,
   "id": "8839f217",
   "metadata": {},
   "outputs": [
    {
     "data": {
      "text/plain": [
       "0    322\n",
       "1     63\n",
       "5     55\n",
       "4     49\n",
       "Name: closest, dtype: int64"
      ]
     },
     "execution_count": 501,
     "metadata": {},
     "output_type": "execute_result"
    }
   ],
   "source": [
    "simulate(489).closest.value_counts()"
   ]
  },
  {
   "cell_type": "markdown",
   "id": "0d887b1a",
   "metadata": {},
   "source": [
    "#### Note:\n",
    "let's try this once for the total number of deaths, which is 489, closest. So we get something close to what we actually observed in the true data"
   ]
  },
  {
   "cell_type": "code",
   "execution_count": 502,
   "id": "e9315e2b",
   "metadata": {},
   "outputs": [],
   "source": [
    "sampling = pd.DataFrame({'counts': [simulate(489).closest.value_counts()[0] for i in range(10000)]})"
   ]
  },
  {
   "cell_type": "markdown",
   "id": "758b40c8",
   "metadata": {},
   "source": [
    "#### Note:\n",
    "I will look at the histogram. We have generated this distribution under the null hypothesis that the pumps have nothing to do with color, and the deaths occur simply proportionally to population. We can now compare this distribution with the observed number of 340 deaths in area zero. More precisely, we evaluate at what quantile we find 340 in this null hypothesis sampling distribution."
   ]
  },
  {
   "cell_type": "code",
   "execution_count": 503,
   "id": "4bce774f",
   "metadata": {},
   "outputs": [
    {
     "data": {
      "text/plain": [
       "<AxesSubplot:>"
      ]
     },
     "execution_count": 503,
     "metadata": {},
     "output_type": "execute_result"
    },
    {
     "data": {
      "image/png": "[encoded data removed]",
      "text/plain": [
       "<Figure size 432x288 with 1 Axes>"
      ]
     },
     "metadata": {
      "needs_background": "light"
     },
     "output_type": "display_data"
    }
   ],
   "source": [
    "sampling.counts.hist(histtype = 'step')"
   ]
  },
  {
   "cell_type": "markdown",
   "id": "1d17b824",
   "metadata": {},
   "source": [
    "#### \n",
    "Remember, I used scipy.stats.percentileofscore. So 340 is a very extreme value, which we would not expect from the null scenario."
   ]
  },
  {
   "cell_type": "code",
   "execution_count": 504,
   "id": "924e2613",
   "metadata": {},
   "outputs": [
    {
     "data": {
      "text/plain": [
       "98.32"
      ]
     },
     "execution_count": 504,
     "metadata": {},
     "output_type": "execute_result"
    }
   ],
   "source": [
    "scipy.stats.percentileofscore(sampling.counts,340)"
   ]
  },
  {
   "cell_type": "code",
   "execution_count": 505,
   "id": "c44652cf",
   "metadata": {},
   "outputs": [
    {
     "data": {
      "text/plain": [
       "1.8599999999999994"
      ]
     },
     "execution_count": 505,
     "metadata": {},
     "output_type": "execute_result"
    }
   ],
   "source": [
    "100-98.14"
   ]
  },
  {
   "cell_type": "markdown",
   "id": "e410c6a2",
   "metadata": {},
   "source": [
    "#### \n",
    "In fact, we'd expect it only 1.86 percent of the time. This is known as the P value, the smaller the P value, the more strongly we can reject the null hypothesis. I've just presented a very simple example of hypothesis testing. We have made an observation, many deaths in area zero. We have made a hypothesis it's the pump. And we have estimated the distribution of expected deaths under a null hypothesis. Last, we have verified how extreme our observed finding was with respect to the null distribution. Note that the only two permissible conclusions from a formal hypothesis test such as this is I reject the null hypothesis, or I failed to reject the null hypothesis. This is a very formal way of reasoning, but it's the only one we can support firmly with statistics. The scientific community has recently witnessed a harsh debate about the value of hypothesis testing, and especially about what P value should be required to make a conclusion. The problem is that if you select, say P of 0.05, five percent, but you make many tests, eventually you are going to find many where the null hypothesis is wrongly rejected, just by chance. The lesson is that one must be careful about making conclusions, for instance, by requiring a lower P value or an established causal link, and not just apply a formula blindly."
   ]
  },
  {
   "cell_type": "markdown",
   "id": "b54d8ed1",
   "metadata": {},
   "source": [
    "## Chapter 4.5  p values and confidence intervals\n",
    " There is in fact a close relationship between hypothesis testing and confidence intervals. If the null hypothesis corresponds to a range of values for a population parameter that are excluded from the confidence interval, then the null hypothesis must be rejected with a very low P value. The lower, the higher the confidence level of he interval. To exemplify this we go back to our example of the election poll and reformulate it as hypothesis testing.\n",
    "\n",
    "So we import packages and load the data. To remind you, in the smaller poll Brown had a seeming majority of votes, so here the null hypothesis will be that Green wins or ties the election, so the true Brown fraction would be 0.50 or less. We need to find out whether a Brown proportion of 0.511 is an extreme result if the null hypothesis holds.\n",
    "\n"
   ]
  },
  {
   "cell_type": "code",
   "execution_count": 506,
   "id": "906300e5",
   "metadata": {},
   "outputs": [
    {
     "data": {
      "text/plain": [
       "Brown    0.511\n",
       "Green    0.489\n",
       "Name: vote, dtype: float64"
      ]
     },
     "execution_count": 506,
     "metadata": {},
     "output_type": "execute_result"
    }
   ],
   "source": [
    "poll.vote.value_counts(normalize=True)"
   ]
  },
  {
   "cell_type": "markdown",
   "id": "eca3acdd",
   "metadata": {},
   "source": [
    "#### Note:\n",
    "So we compute the sampling distribution of the proportion, and get a true Brown fraction of 0.50. \n",
    "If it's lower than that the P value will be even lower. So we can work with 0.50. Here's a\n",
    "function to simulate the sample of a thousand. Once again, we use numpy random rand and \n",
    "compare uniformly distributed numbers between zero and one with the Brown fraction.\n",
    "Then we use numpy where and return Brown if the condition holds true or Green otherwise.\n",
    "\n",
    "Finally, we enclose everything in a data frame. "
   ]
  },
  {
   "cell_type": "code",
   "execution_count": 507,
   "id": "f3d2f586",
   "metadata": {},
   "outputs": [],
   "source": [
    "def sample(brown, n=1000):\n",
    "    return pd.DataFrame({'vote': np.where(np.random.rand(n) < brown, 'Brown', 'Green')})"
   ]
  },
  {
   "cell_type": "markdown",
   "id": "60d8cc99",
   "metadata": {},
   "source": [
    "#### Note:\n",
    "Finally, we enclose everything in a data frame. And here's the sampling distribution. We call sample, grab the votes and count them, and then repeat. Collect the results in a list comprehension and then close in the data frame. We forgot one thing in a sample function, which is to return the value. It's an easy fix. This takes a few seconds.And here's the sampling distribution."
   ]
  },
  {
   "cell_type": "code",
   "execution_count": 508,
   "id": "c062a16a",
   "metadata": {},
   "outputs": [],
   "source": [
    "dist = pd.DataFrame({'Brown': [sample(0.50, 1000).vote.value_counts(normalize=True)['Brown'] for i in range(10000)]})"
   ]
  },
  {
   "cell_type": "markdown",
   "id": "85696901",
   "metadata": {},
   "source": [
    "Note.\n",
    "\n",
    "Histogram the sampling distribution, and we see that indeed 0.511 is not a very extreme value. If we look for its quantile we see that the corresponding P value is 24%, certainly not enough to reject the null hypothesis that Green ties or wins. What about the larger sample? Here, it makes sense to set the null hypothesis to Brown winning or tying since Green seems to have the majority. In fact, a nice feature of binary problems, such as this, is that the null hypothesis and its alternative are complementary."
   ]
  },
  {
   "cell_type": "code",
   "execution_count": 510,
   "id": "0b9ceb0f",
   "metadata": {},
   "outputs": [
    {
     "data": {
      "text/plain": [
       "<AxesSubplot:>"
      ]
     },
     "execution_count": 510,
     "metadata": {},
     "output_type": "execute_result"
    },
    {
     "data": {
      "image/png": "[encoded data removed]",
      "text/plain": [
       "<Figure size 432x288 with 1 Axes>"
      ]
     },
     "metadata": {
      "needs_background": "light"
     },
     "output_type": "display_data"
    }
   ],
   "source": [
    "dist.Brown.hist(histtype = 'step', bins=20)"
   ]
  },
  {
   "cell_type": "code",
   "execution_count": 511,
   "id": "92fc490e",
   "metadata": {},
   "outputs": [
    {
     "data": {
      "text/plain": [
       "24.409999999999997"
      ]
     },
     "execution_count": 511,
     "metadata": {},
     "output_type": "execute_result"
    }
   ],
   "source": [
    "100 - scipy.stats.percentileofscore(dist.Brown, 0.511)"
   ]
  },
  {
   "cell_type": "markdown",
   "id": "1f2dc6f2",
   "metadata": {},
   "source": [
    "#### Note:\n",
    "So I load the data, look at accounts, and again, compute a sampling distribution at the fraction of 0.50, this time for Green, when the sample's at 10,000. This takes longer, so we compute only 1,000 repetitions. Let's see a histogram. And let's overlay Brown's value of 0.5181. Here, the value's so extreme that it's not even included in our finite sampling distribution. We conclude that the P value for rejecting the null hypothesis that Brown wins or ties is one over 1000 or less, which qualifies as very significant.\n"
   ]
  },
  {
   "cell_type": "code",
   "execution_count": 512,
   "id": "74983881",
   "metadata": {},
   "outputs": [
    {
     "data": {
      "text/plain": [
       "Green    0.5181\n",
       "Brown    0.4819\n",
       "Name: vote, dtype: float64"
      ]
     },
     "execution_count": 512,
     "metadata": {},
     "output_type": "execute_result"
    }
   ],
   "source": [
    "largepoll.vote.value_counts(normalize=True)"
   ]
  },
  {
   "cell_type": "code",
   "execution_count": 513,
   "id": "f4205e17",
   "metadata": {},
   "outputs": [],
   "source": [
    "dist = pd.DataFrame({'Green': [sample(0.50, 10000).vote.value_counts(normalize=True)['Green'] for i in range(10000)]})"
   ]
  },
  {
   "cell_type": "code",
   "execution_count": 514,
   "id": "ed6de09c",
   "metadata": {},
   "outputs": [
    {
     "data": {
      "text/plain": [
       "<matplotlib.lines.Line2D at 0x1d1ef329e50>"
      ]
     },
     "execution_count": 514,
     "metadata": {},
     "output_type": "execute_result"
    },
    {
     "data": {
      "image/png": "[encoded data removed]",
      "text/plain": [
       "<Figure size 432x288 with 1 Axes>"
      ]
     },
     "metadata": {
      "needs_background": "light"
     },
     "output_type": "display_data"
    }
   ],
   "source": [
    "dist.Green.hist(histtype = 'step', bins=20)\n",
    "plt.axvline(0.5181, c='C1')"
   ]
  },
  {
   "cell_type": "markdown",
   "id": "a7ce6287",
   "metadata": {},
   "source": [
    "#### \n",
    "An interesting question is whether one can apply bootstrapping to compute the values. It is all trivial, because bootstrapping can only represent the true distribution, not the distribution under the null hypothesis, so we would need to modify the bootstrap values to be appropriate for the null case, which in some cases is straightforward and not as impossible. Certainly, it requires some thinking and problem specific information. Doing so, is outside the scope of our course."
   ]
  },
  {
   "cell_type": "markdown",
   "id": "7656525a",
   "metadata": {},
   "source": [
    "## Chapter 5: Introduction to Statistical Modeling"
   ]
  },
  {
   "cell_type": "markdown",
   "id": "4864ea29",
   "metadata": {},
   "source": [
    "###  5.2  Python statistics essential training - fitting models to data"
   ]
  },
  {
   "cell_type": "code",
   "execution_count": 3,
   "id": "c48f5913",
   "metadata": {},
   "outputs": [],
   "source": [
    "import math\n",
    "import statsmodels\n",
    "import statsmodels.api as sm\n",
    "import statsmodels.formula.api as smf\n"
   ]
  },
  {
   "cell_type": "code",
   "execution_count": 4,
   "id": "fe05bb83",
   "metadata": {},
   "outputs": [],
   "source": [
    "gapminder = pd.read_csv('C:\\\\Projects\\\\Data Camp\\\\Chapter 5 linkedin Statistical modelling\\\\Ex_Files_Python_Statistics_EssT\\\\Exercise Files\\\\chapter5\\\\05_02\\\\gapminder.csv')\n"
   ]
  },
  {
   "cell_type": "markdown",
   "id": "c7faca2b",
   "metadata": {},
   "source": [
    "####  \n",
    "I have already prepared code to select Gapminder data from year 1985, the year of Live Aid, and to make a scatter plot of child survivor rates versus babies per woman using colors to denote regions and dot sizes to express populations. Let's try it out. (computer keys clicking) We fit models using the very powerful Python package, Statsmodels. We will only scratch the surface of what Statsmodels can do and we will default to its OLS method. OLS stands for ordinary least squares. Least squares means that models are fit by minimizing the sum of square differences between model predictions and observations. Furthermore, ordinary here means that the model coefficients appear lineally in the model formulas. That is, they multiply explanatory variables or functions of explanatory variables. But, do not worry too much about these technical details. What we will do will be very intuitive. Statsmodels lets us specify models by way of the tilde formula notation, which is used also in the statistical language, R. The formulas go like response variable, tilde, model terms. \n"
   ]
  },
  {
   "cell_type": "code",
   "execution_count": 517,
   "id": "6113d878",
   "metadata": {},
   "outputs": [
    {
     "data": {
      "text/html": [
       "<div>\n",
       "<style scoped>\n",
       "    .dataframe tbody tr th:only-of-type {\n",
       "        vertical-align: middle;\n",
       "    }\n",
       "\n",
       "    .dataframe tbody tr th {\n",
       "        vertical-align: top;\n",
       "    }\n",
       "\n",
       "    .dataframe thead th {\n",
       "        text-align: right;\n",
       "    }\n",
       "</style>\n",
       "<table border=\"1\" class=\"dataframe\">\n",
       "  <thead>\n",
       "    <tr style=\"text-align: right;\">\n",
       "      <th></th>\n",
       "      <th>country</th>\n",
       "      <th>year</th>\n",
       "      <th>region</th>\n",
       "      <th>population</th>\n",
       "      <th>life_expectancy</th>\n",
       "      <th>age5_surviving</th>\n",
       "      <th>babies_per_woman</th>\n",
       "      <th>gdp_per_capita</th>\n",
       "      <th>gdp_per_day</th>\n",
       "    </tr>\n",
       "  </thead>\n",
       "  <tbody>\n",
       "    <tr>\n",
       "      <th>0</th>\n",
       "      <td>Afghanistan</td>\n",
       "      <td>1800</td>\n",
       "      <td>Asia</td>\n",
       "      <td>3280000.0</td>\n",
       "      <td>28.21</td>\n",
       "      <td>53.142</td>\n",
       "      <td>7.0</td>\n",
       "      <td>603.0</td>\n",
       "      <td>1.650924</td>\n",
       "    </tr>\n",
       "    <tr>\n",
       "      <th>1</th>\n",
       "      <td>Afghanistan</td>\n",
       "      <td>1810</td>\n",
       "      <td>Asia</td>\n",
       "      <td>3280000.0</td>\n",
       "      <td>28.11</td>\n",
       "      <td>53.002</td>\n",
       "      <td>7.0</td>\n",
       "      <td>604.0</td>\n",
       "      <td>1.653662</td>\n",
       "    </tr>\n",
       "    <tr>\n",
       "      <th>2</th>\n",
       "      <td>Afghanistan</td>\n",
       "      <td>1820</td>\n",
       "      <td>Asia</td>\n",
       "      <td>3323519.0</td>\n",
       "      <td>28.01</td>\n",
       "      <td>52.862</td>\n",
       "      <td>7.0</td>\n",
       "      <td>604.0</td>\n",
       "      <td>1.653662</td>\n",
       "    </tr>\n",
       "    <tr>\n",
       "      <th>3</th>\n",
       "      <td>Afghanistan</td>\n",
       "      <td>1830</td>\n",
       "      <td>Asia</td>\n",
       "      <td>3448982.0</td>\n",
       "      <td>27.90</td>\n",
       "      <td>52.719</td>\n",
       "      <td>7.0</td>\n",
       "      <td>625.0</td>\n",
       "      <td>1.711157</td>\n",
       "    </tr>\n",
       "    <tr>\n",
       "      <th>4</th>\n",
       "      <td>Afghanistan</td>\n",
       "      <td>1840</td>\n",
       "      <td>Asia</td>\n",
       "      <td>3625022.0</td>\n",
       "      <td>27.80</td>\n",
       "      <td>52.576</td>\n",
       "      <td>7.0</td>\n",
       "      <td>647.0</td>\n",
       "      <td>1.771389</td>\n",
       "    </tr>\n",
       "  </tbody>\n",
       "</table>\n",
       "</div>"
      ],
      "text/plain": [
       "       country  year region  population  life_expectancy  age5_surviving  \\\n",
       "0  Afghanistan  1800   Asia   3280000.0            28.21          53.142   \n",
       "1  Afghanistan  1810   Asia   3280000.0            28.11          53.002   \n",
       "2  Afghanistan  1820   Asia   3323519.0            28.01          52.862   \n",
       "3  Afghanistan  1830   Asia   3448982.0            27.90          52.719   \n",
       "4  Afghanistan  1840   Asia   3625022.0            27.80          52.576   \n",
       "\n",
       "   babies_per_woman  gdp_per_capita  gdp_per_day  \n",
       "0               7.0           603.0     1.650924  \n",
       "1               7.0           604.0     1.653662  \n",
       "2               7.0           604.0     1.653662  \n",
       "3               7.0           625.0     1.711157  \n",
       "4               7.0           647.0     1.771389  "
      ]
     },
     "execution_count": 517,
     "metadata": {},
     "output_type": "execute_result"
    }
   ],
   "source": [
    "gapminder.head()"
   ]
  },
  {
   "cell_type": "code",
   "execution_count": 16,
   "id": "41612d32",
   "metadata": {},
   "outputs": [],
   "source": [
    "gdata = gapminder.query('year == 1985')\n",
    "   "
   ]
  },
  {
   "cell_type": "code",
   "execution_count": 519,
   "id": "d29674af",
   "metadata": {},
   "outputs": [
    {
     "data": {
      "image/png": "[encoded data removed]",
      "text/plain": [
       "<Figure size 432x288 with 1 Axes>"
      ]
     },
     "metadata": {
      "needs_background": "light"
     },
     "output_type": "display_data"
    }
   ],
   "source": [
    "size = 1e-6 * gdata.population\n",
    "\n",
    "colors = gdata.region.map({'Africa': 'skyblue', 'Europe': 'gold', 'America': 'palegreen', 'Asia': 'coral'})\n",
    "\n",
    "def plotdata():\n",
    "    gdata.plot.scatter('age5_surviving', 'babies_per_woman', c=colors, s=size, linewidth=0.5, edgecolor='k', alpha=0.5)\n",
    "    \n",
    "plotdata()    "
   ]
  },
  {
   "cell_type": "markdown",
   "id": "a5e5f219",
   "metadata": {},
   "source": [
    "#### Note:\n",
    "I have imported Statsmodels under the alias SMF, so the model is ordinary least squares, and the formula for my first example it just going to be: babies_per_woman ~ 1 representing a constant. I also assigned a data set, g data, to the model.\n",
    "Next, we need to fit the model. I'm calling this fit grand mean; we'll see in a moment why.\n",
    "Finally we interrogate the results object. (computer keys clicking) The first thing we can do with it is to use its method to predict, which lets us reproduce model values."
   ]
  },
  {
   "cell_type": "code",
   "execution_count": 520,
   "id": "3fb3086e",
   "metadata": {},
   "outputs": [],
   "source": [
    "model = smf.ols(formula='babies_per_woman ~ 1', data=gdata)"
   ]
  },
  {
   "cell_type": "code",
   "execution_count": 521,
   "id": "59e38674",
   "metadata": {},
   "outputs": [],
   "source": [
    "grandmean = model.fit()"
   ]
  },
  {
   "cell_type": "code",
   "execution_count": 522,
   "id": "974fcbf1",
   "metadata": {},
   "outputs": [
    {
     "data": {
      "text/plain": [
       "<statsmodels.regression.linear_model.RegressionResultsWrapper at 0x1d1ef5d0130>"
      ]
     },
     "execution_count": 522,
     "metadata": {},
     "output_type": "execute_result"
    }
   ],
   "source": [
    "grandmean"
   ]
  },
  {
   "cell_type": "markdown",
   "id": "bdb35a83",
   "metadata": {},
   "source": [
    "#### Note:\n",
    "We plot them by reproducing colors, but not sizes. Since we'll do this a lot, let me make a function,  which will plot the data first, and then do a scatter plot of one explanatory variable against a model prediction. Let me also set colors, sizes, and a few aesthetic details. One detail I want the function to be generic and so actually plot the prediction for a dummy variable fit. , the result of doing this model is equivalent to returning the mean of our response variables. We can see this by comparing the fit parameters, which are held in the attribute params of the results object with a simple mean of the data.  The constant term is known as intercept."
   ]
  },
  {
   "cell_type": "code",
   "execution_count": 523,
   "id": "b0dea119",
   "metadata": {},
   "outputs": [
    {
     "data": {
      "image/png": "[encoded data removed]",
      "text/plain": [
       "<Figure size 432x288 with 1 Axes>"
      ]
     },
     "metadata": {
      "needs_background": "light"
     },
     "output_type": "display_data"
    }
   ],
   "source": [
    "def plotfit(fit):\n",
    "    plotdata()\n",
    "    plt.scatter(gdata.age5_surviving, fit.predict(gdata), c=colors, s=30, linewidth=0.5, edgecolor='k', marker = 'D')\n",
    "    \n",
    "plotfit(grandmean)"
   ]
  },
  {
   "cell_type": "code",
   "execution_count": 524,
   "id": "7a453f23",
   "metadata": {},
   "outputs": [
    {
     "data": {
      "text/plain": [
       "4.360714285714285"
      ]
     },
     "execution_count": 524,
     "metadata": {},
     "output_type": "execute_result"
    }
   ],
   "source": [
    "gdata.babies_per_woman.mean()"
   ]
  },
  {
   "cell_type": "markdown",
   "id": "f68d189b",
   "metadata": {},
   "source": [
    "#### Note:\n",
    "If we now introduce the region as the model term, we get the model equivalent by taking means by group. To add a model term, we include it on the right hand side of the formula with a plus. Let me grab code from above. Add the region, fit directly, and assign the results to a new name. We look at parameters. What we get here is a common constant term, and then offsets four groups minus one of them. "
   ]
  },
  {
   "cell_type": "code",
   "execution_count": 525,
   "id": "d42eea7e",
   "metadata": {},
   "outputs": [],
   "source": [
    "groupmeans = smf.ols(formula='babies_per_woman ~ 1 + region', data=gdata).fit()"
   ]
  },
  {
   "cell_type": "code",
   "execution_count": 526,
   "id": "2c789048",
   "metadata": {},
   "outputs": [
    {
     "data": {
      "image/png": "[encoded data removed]",
      "text/plain": [
       "<Figure size 432x288 with 1 Axes>"
      ]
     },
     "metadata": {
      "needs_background": "light"
     },
     "output_type": "display_data"
    }
   ],
   "source": [
    "plotfit(groupmeans)"
   ]
  },
  {
   "cell_type": "code",
   "execution_count": 527,
   "id": "e5798983",
   "metadata": {},
   "outputs": [
    {
     "data": {
      "text/plain": [
       "Intercept            6.321321\n",
       "region[T.America]   -2.663139\n",
       "region[T.Asia]      -1.545744\n",
       "region[T.Europe]    -4.285639\n",
       "dtype: float64"
      ]
     },
     "execution_count": 527,
     "metadata": {},
     "output_type": "execute_result"
    }
   ],
   "source": [
    "groupmeans.params"
   ]
  },
  {
   "cell_type": "markdown",
   "id": "cceb1c92",
   "metadata": {},
   "source": [
    "#### \n",
    "To treat all groups in the same way, we would write a constant with a minus. And again, we can compare with the grouped means"
   ]
  },
  {
   "cell_type": "code",
   "execution_count": 528,
   "id": "5e95d26a",
   "metadata": {},
   "outputs": [],
   "source": [
    "groupmeans = smf.ols(formula='babies_per_woman ~ -1 + region', data=gdata).fit()"
   ]
  },
  {
   "cell_type": "code",
   "execution_count": 529,
   "id": "d61418b0",
   "metadata": {},
   "outputs": [
    {
     "data": {
      "text/plain": [
       "region[Africa]     6.321321\n",
       "region[America]    3.658182\n",
       "region[Asia]       4.775577\n",
       "region[Europe]     2.035682\n",
       "dtype: float64"
      ]
     },
     "execution_count": 529,
     "metadata": {},
     "output_type": "execute_result"
    }
   ],
   "source": [
    "groupmeans.params"
   ]
  },
  {
   "cell_type": "code",
   "execution_count": 530,
   "id": "9efd0737",
   "metadata": {},
   "outputs": [
    {
     "data": {
      "text/plain": [
       "region\n",
       "Africa     6.321321\n",
       "America    3.658182\n",
       "Asia       4.775577\n",
       "Europe     2.035682\n",
       "Name: babies_per_woman, dtype: float64"
      ]
     },
     "execution_count": 530,
     "metadata": {},
     "output_type": "execute_result"
    }
   ],
   "source": [
    "gdata.groupby('region').babies_per_woman.mean()"
   ]
  },
  {
   "cell_type": "markdown",
   "id": "60f0370c",
   "metadata": {},
   "source": [
    "#### Note:\n",
    "Now we try something that we cannot get out of simple means. We add a quantitative variable, child survival, as a main term in the model. We'll call this fit surviving. At least visually, the fit is improving and the fit parameters are interesting."
   ]
  },
  {
   "cell_type": "code",
   "execution_count": 531,
   "id": "69dab5b0",
   "metadata": {},
   "outputs": [],
   "source": [
    "surviving = smf.ols(formula='babies_per_woman ~ -1 + region + age5_surviving', data=gdata).fit()"
   ]
  },
  {
   "cell_type": "code",
   "execution_count": 532,
   "id": "3d12e242",
   "metadata": {},
   "outputs": [
    {
     "data": {
      "text/plain": [
       "region[Africa]     18.265792\n",
       "region[America]    17.085884\n",
       "region[Asia]       17.864741\n",
       "region[Europe]     15.872183\n",
       "age5_surviving     -0.141886\n",
       "dtype: float64"
      ]
     },
     "execution_count": 532,
     "metadata": {},
     "output_type": "execute_result"
    }
   ],
   "source": [
    "surviving.params"
   ]
  },
  {
   "cell_type": "markdown",
   "id": "a8abce0f",
   "metadata": {},
   "source": [
    "#### Note:\n",
    "The interesting one in particular is age by surviving which is a slope or derivative. It tells us that for every additional percentage point of child survival to age five, the number of babies per woman decreases by .14. Now the constant group terms are large because they theoretically represent the number of children for survivor rate of 0%. If we wish to have a different slope for every region, we can throw in an interaction term, as opposed to a main term, which involves two explanatory variables. We'll call this surviving by region. The interaction term is written with a colon"
   ]
  },
  {
   "cell_type": "code",
   "execution_count": 533,
   "id": "8b0ded25",
   "metadata": {},
   "outputs": [],
   "source": [
    "surviving_byregion = smf.ols(formula='babies_per_woman ~ -1 + region + age5_surviving:region', data=gdata).fit()"
   ]
  },
  {
   "cell_type": "code",
   "execution_count": 534,
   "id": "409232bb",
   "metadata": {},
   "outputs": [
    {
     "data": {
      "image/png": "[encoded data removed]",
      "text/plain": [
       "<Figure size 432x288 with 1 Axes>"
      ]
     },
     "metadata": {
      "needs_background": "light"
     },
     "output_type": "display_data"
    }
   ],
   "source": [
    "plotfit(surviving_byregion)"
   ]
  },
  {
   "cell_type": "code",
   "execution_count": 535,
   "id": "dd22a0f7",
   "metadata": {},
   "outputs": [
    {
     "data": {
      "text/plain": [
       "region[Africa]                    15.080914\n",
       "region[America]                   27.506243\n",
       "region[Asia]                      20.032483\n",
       "region[Europe]                    19.884446\n",
       "age5_surviving:region[Africa]     -0.104053\n",
       "age5_surviving:region[America]    -0.251994\n",
       "age5_surviving:region[Asia]       -0.165384\n",
       "age5_surviving:region[Europe]     -0.183029\n",
       "dtype: float64"
      ]
     },
     "execution_count": 535,
     "metadata": {},
     "output_type": "execute_result"
    }
   ],
   "source": [
    "surviving_byregion.params"
   ]
  },
  {
   "cell_type": "markdown",
   "id": "6a202bce",
   "metadata": {},
   "source": [
    "#### \n",
    "Now we see that we have four different slopes. India and China, represented by the large circles, seem to be outliers with respect to the fit. Perhaps we can account for them by including another main term this time proportional to population. Let's change the name of the fit again and add the main term. Now we see that the diamonds don't simply lie along straight lines, because of the fact of the population explanatory variable. Well done, we have learned quite a bit. In the next lesson, we see how to tell actually how good any given model is."
   ]
  },
  {
   "cell_type": "code",
   "execution_count": 536,
   "id": "1865d1fc",
   "metadata": {},
   "outputs": [],
   "source": [
    "surviving_byregion_population = smf.ols(formula='babies_per_woman ~ -1 + region + age5_surviving:region + population', data=gdata).fit()"
   ]
  },
  {
   "cell_type": "code",
   "execution_count": 537,
   "id": "9e87fb4b",
   "metadata": {},
   "outputs": [
    {
     "data": {
      "image/png": "[encoded data removed]",
      "text/plain": [
       "<Figure size 432x288 with 1 Axes>"
      ]
     },
     "metadata": {
      "needs_background": "light"
     },
     "output_type": "display_data"
    }
   ],
   "source": [
    "plotfit(surviving_byregion_population)"
   ]
  },
  {
   "cell_type": "markdown",
   "id": "0a8f897f",
   "metadata": {},
   "source": [
    "## 5.3 Goodness of fit"
   ]
  },
  {
   "cell_type": "markdown",
   "id": "00f71978",
   "metadata": {},
   "source": [
    "#### Note:\n",
    "I have copied some code from the last section to load models, set up plotting, and create three linear models. I'll execute all the cells. So here are plots of predictions on top of data for two of the models. Surviving, on top, includes constant terms for every region, plus a single main term, a slope, for age five survival. Surviving population by region includes the constant terms, a different slope for every region, and a main term for population. "
   ]
  },
  {
   "cell_type": "code",
   "execution_count": 242,
   "id": "d3d357d3",
   "metadata": {},
   "outputs": [
    {
     "data": {
      "text/html": [
       "<div>\n",
       "<style scoped>\n",
       "    .dataframe tbody tr th:only-of-type {\n",
       "        vertical-align: middle;\n",
       "    }\n",
       "\n",
       "    .dataframe tbody tr th {\n",
       "        vertical-align: top;\n",
       "    }\n",
       "\n",
       "    .dataframe thead th {\n",
       "        text-align: right;\n",
       "    }\n",
       "</style>\n",
       "<table border=\"1\" class=\"dataframe\">\n",
       "  <thead>\n",
       "    <tr style=\"text-align: right;\">\n",
       "      <th></th>\n",
       "      <th>country</th>\n",
       "      <th>year</th>\n",
       "      <th>region</th>\n",
       "      <th>population</th>\n",
       "      <th>life_expectancy</th>\n",
       "      <th>age5_surviving</th>\n",
       "      <th>babies_per_woman</th>\n",
       "      <th>gdp_per_capita</th>\n",
       "      <th>gdp_per_day</th>\n",
       "    </tr>\n",
       "  </thead>\n",
       "  <tbody>\n",
       "    <tr>\n",
       "      <th>0</th>\n",
       "      <td>Afghanistan</td>\n",
       "      <td>1800</td>\n",
       "      <td>Asia</td>\n",
       "      <td>3280000.0</td>\n",
       "      <td>28.21</td>\n",
       "      <td>53.142</td>\n",
       "      <td>7.0</td>\n",
       "      <td>603.0</td>\n",
       "      <td>1.650924</td>\n",
       "    </tr>\n",
       "    <tr>\n",
       "      <th>1</th>\n",
       "      <td>Afghanistan</td>\n",
       "      <td>1810</td>\n",
       "      <td>Asia</td>\n",
       "      <td>3280000.0</td>\n",
       "      <td>28.11</td>\n",
       "      <td>53.002</td>\n",
       "      <td>7.0</td>\n",
       "      <td>604.0</td>\n",
       "      <td>1.653662</td>\n",
       "    </tr>\n",
       "    <tr>\n",
       "      <th>2</th>\n",
       "      <td>Afghanistan</td>\n",
       "      <td>1820</td>\n",
       "      <td>Asia</td>\n",
       "      <td>3323519.0</td>\n",
       "      <td>28.01</td>\n",
       "      <td>52.862</td>\n",
       "      <td>7.0</td>\n",
       "      <td>604.0</td>\n",
       "      <td>1.653662</td>\n",
       "    </tr>\n",
       "    <tr>\n",
       "      <th>3</th>\n",
       "      <td>Afghanistan</td>\n",
       "      <td>1830</td>\n",
       "      <td>Asia</td>\n",
       "      <td>3448982.0</td>\n",
       "      <td>27.90</td>\n",
       "      <td>52.719</td>\n",
       "      <td>7.0</td>\n",
       "      <td>625.0</td>\n",
       "      <td>1.711157</td>\n",
       "    </tr>\n",
       "    <tr>\n",
       "      <th>4</th>\n",
       "      <td>Afghanistan</td>\n",
       "      <td>1840</td>\n",
       "      <td>Asia</td>\n",
       "      <td>3625022.0</td>\n",
       "      <td>27.80</td>\n",
       "      <td>52.576</td>\n",
       "      <td>7.0</td>\n",
       "      <td>647.0</td>\n",
       "      <td>1.771389</td>\n",
       "    </tr>\n",
       "  </tbody>\n",
       "</table>\n",
       "</div>"
      ],
      "text/plain": [
       "       country  year region  population  life_expectancy  age5_surviving  \\\n",
       "0  Afghanistan  1800   Asia   3280000.0            28.21          53.142   \n",
       "1  Afghanistan  1810   Asia   3280000.0            28.11          53.002   \n",
       "2  Afghanistan  1820   Asia   3323519.0            28.01          52.862   \n",
       "3  Afghanistan  1830   Asia   3448982.0            27.90          52.719   \n",
       "4  Afghanistan  1840   Asia   3625022.0            27.80          52.576   \n",
       "\n",
       "   babies_per_woman  gdp_per_capita  gdp_per_day  \n",
       "0               7.0           603.0     1.650924  \n",
       "1               7.0           604.0     1.653662  \n",
       "2               7.0           604.0     1.653662  \n",
       "3               7.0           625.0     1.711157  \n",
       "4               7.0           647.0     1.771389  "
      ]
     },
     "execution_count": 242,
     "metadata": {},
     "output_type": "execute_result"
    }
   ],
   "source": [
    "gapminder.head()"
   ]
  },
  {
   "cell_type": "code",
   "execution_count": 243,
   "id": "0cd1083b",
   "metadata": {},
   "outputs": [],
   "source": [
    "gdata = gapminder.query('year == 1985')"
   ]
  },
  {
   "cell_type": "code",
   "execution_count": 244,
   "id": "3cdd8756",
   "metadata": {},
   "outputs": [
    {
     "data": {
      "image/png": "[encoded data removed]",
      "text/plain": [
       "<Figure size 432x288 with 1 Axes>"
      ]
     },
     "metadata": {
      "needs_background": "light"
     },
     "output_type": "display_data"
    }
   ],
   "source": [
    "size = 1e-6 * gdata.population\n",
    "\n",
    "colors = gdata.region.map({'Africa': 'skyblue', 'Europe': 'gold', 'America': 'palegreen', 'Asia': 'coral'})\n",
    "\n",
    "def plotdata():\n",
    "    gdata.plot.scatter('age5_surviving', 'babies_per_woman', c=colors, s=size, linewidth=0.5, edgecolor='k', alpha=0.5)\n",
    "    \n",
    "plotdata() "
   ]
  },
  {
   "cell_type": "code",
   "execution_count": 245,
   "id": "a155dcf2",
   "metadata": {},
   "outputs": [
    {
     "data": {
      "image/png": "[encoded data removed]",
      "text/plain": [
       "<Figure size 432x288 with 1 Axes>"
      ]
     },
     "metadata": {
      "needs_background": "light"
     },
     "output_type": "display_data"
    }
   ],
   "source": [
    "def plotfit(fit):\n",
    "    plotdata()\n",
    "    plt.scatter(gdata.age5_surviving, fit.predict(gdata), c=colors, s=30, linewidth=0.5, edgecolor='k', marker = 'D')\n",
    "    \n",
    "plotfit(grandmean)"
   ]
  },
  {
   "cell_type": "code",
   "execution_count": 246,
   "id": "ff7cdc52",
   "metadata": {},
   "outputs": [],
   "source": [
    "groupmeans = smf.ols(formula='babies_per_woman ~ -1 + region', data=gdata).fit()"
   ]
  },
  {
   "cell_type": "code",
   "execution_count": 247,
   "id": "5c5f19f2",
   "metadata": {},
   "outputs": [],
   "source": [
    "surviving = smf.ols(formula='babies_per_woman ~ -1 + region + age5_surviving', data=gdata).fit()"
   ]
  },
  {
   "cell_type": "code",
   "execution_count": 248,
   "id": "ef62e43f",
   "metadata": {},
   "outputs": [],
   "source": [
    "surviving_byregion_population = smf.ols(formula='babies_per_woman ~ -1 + region + age5_surviving:region + population', data=gdata).fit()"
   ]
  },
  {
   "cell_type": "code",
   "execution_count": 249,
   "id": "3eac3f32",
   "metadata": {},
   "outputs": [
    {
     "data": {
      "image/png": "[encoded data removed]",
      "text/plain": [
       "<Figure size 432x288 with 1 Axes>"
      ]
     },
     "metadata": {
      "needs_background": "light"
     },
     "output_type": "display_data"
    }
   ],
   "source": [
    "plotfit(surviving)"
   ]
  },
  {
   "cell_type": "code",
   "execution_count": 250,
   "id": "0fe93339",
   "metadata": {},
   "outputs": [
    {
     "data": {
      "image/png": "[encoded data removed]",
      "text/plain": [
       "<Figure size 432x288 with 1 Axes>"
      ]
     },
     "metadata": {
      "needs_background": "light"
     },
     "output_type": "display_data"
    }
   ],
   "source": [
    "plotfit(surviving_byregion_population)"
   ]
  },
  {
   "cell_type": "markdown",
   "id": "cb1c9205",
   "metadata": {},
   "source": [
    "#####  \n",
    "How can we tell which model is better? In this section, we will be looking at classical measure of goodness of fit, such as mean square residual, R², the F statistics, and ANOVA tables. All of these and many more have been developed in the analytics-heavy pre-computer era, so they do require some mathematical development to be understood fully. The first thing we can do, though, is to plot the actual residuals. This is saved in the StatsModels fit results object"
   ]
  },
  {
   "cell_type": "markdown",
   "id": "9dc6597b",
   "metadata": {},
   "source": [
    "#### Note;\n",
    "we can do a scatter plot of an explanatory variable against the residuals. And let's overlay two more. We see that our best model so far, does better than simpler ones, but not by much. The fit results object contain also the mean square residual, which gives us goodness of fit in a single number"
   ]
  },
  {
   "cell_type": "code",
   "execution_count": 251,
   "id": "acb900d8",
   "metadata": {},
   "outputs": [
    {
     "data": {
      "text/plain": [
       "<matplotlib.collections.PathCollection at 0x1d1ef4a04c0>"
      ]
     },
     "execution_count": 251,
     "metadata": {},
     "output_type": "execute_result"
    },
    {
     "data": {
      "image/png": "[encoded data removed]",
      "text/plain": [
       "<Figure size 432x288 with 1 Axes>"
      ]
     },
     "metadata": {
      "needs_background": "light"
     },
     "output_type": "display_data"
    }
   ],
   "source": [
    "plt.scatter(gdata.age5_surviving, groupmeans.resid)\n",
    "plt.scatter(gdata.age5_surviving, surviving.resid)\n",
    "plt.scatter(gdata.age5_surviving, surviving_byregion_population.resid)"
   ]
  },
  {
   "cell_type": "markdown",
   "id": "1e01fa43",
   "metadata": {},
   "source": [
    "#### Note:\n",
    "So we look over the three models, and just print mse_resid for mean squared error. Mean squared error is the first thing, and the simplest thing I look at. The R² is another statistic that gives us an idea of goodness of fit. It is given by the explained variance, the variance of the fitted model, divided by the total variance of the data. The maximum possible values for the R² is 1, and the minimum is 0. We get it as R² from the result objects."
   ]
  },
  {
   "cell_type": "code",
   "execution_count": 252,
   "id": "39b42358",
   "metadata": {},
   "outputs": [
    {
     "name": "stdout",
     "output_type": "stream",
     "text": [
      "1.4979520263709154\n",
      "0.9423025333008321\n",
      "0.8480227300570319\n"
     ]
    }
   ],
   "source": [
    "for model in [groupmeans, surviving, surviving_byregion_population]:\n",
    "    print(model.mse_resid)"
   ]
  },
  {
   "cell_type": "markdown",
   "id": "d1cfb2fa",
   "metadata": {},
   "source": [
    "#### \n",
    "In both cases, for mean squared error and R², we see a progress in going towards more complicated models. However, another interesting number that is computed for us by stats models is the F statistic, which takes into account not only the explained and unexplained variance, but the number of model parameters. This shows that too many parameters will overfit the data, conforming to the vagaries of the observations, but losing predictive power. As John von Neumann famously said, \"With four parameters, I can fit an elephant, and with five, I can make him wiggle his trunk.\" So the F statistic measures how much, on average, each parameter contributes to the growth of the R², compared to a random model vector, that is, the hypothetical explanatory variable that has random values, and no link to the response variable at all. An F of 1 means that the parameter contributes the same as a random vector. A large F, that the parameters explains much more than that."
   ]
  },
  {
   "cell_type": "markdown",
   "id": "ffa79b8e",
   "metadata": {},
   "source": [
    "#### Note; \n",
    "Again, we get the F statistic from the result objects. These values tell us that the simple surviving model seems to hit a sweet spot. StatsModels actually provides a lot more. "
   ]
  },
  {
   "cell_type": "code",
   "execution_count": 253,
   "id": "c146f2cf",
   "metadata": {},
   "outputs": [
    {
     "name": "stdout",
     "output_type": "stream",
     "text": [
      "0.636467696559659\n",
      "0.7726009080146058\n",
      "0.7999775707885217\n"
     ]
    }
   ],
   "source": [
    "for model in [groupmeans, surviving, surviving_byregion_population]:\n",
    "    print(model.rsquared)"
   ]
  },
  {
   "cell_type": "code",
   "execution_count": 254,
   "id": "929f21ed",
   "metadata": {},
   "outputs": [
    {
     "name": "stdout",
     "output_type": "stream",
     "text": [
      "103.88003937611687\n",
      "150.3418060343098\n",
      "86.4878755672519\n"
     ]
    }
   ],
   "source": [
    "for model in [groupmeans, surviving, surviving_byregion_population]:\n",
    "    print(model.fvalue)"
   ]
  },
  {
   "cell_type": "code",
   "execution_count": 255,
   "id": "d47c133d",
   "metadata": {},
   "outputs": [
    {
     "data": {
      "text/html": [
       "<table class=\"simpletable\">\n",
       "<caption>OLS Regression Results</caption>\n",
       "<tr>\n",
       "  <th>Dep. Variable:</th>    <td>babies_per_woman</td> <th>  R-squared:         </th> <td>   0.773</td>\n",
       "</tr>\n",
       "<tr>\n",
       "  <th>Model:</th>                   <td>OLS</td>       <th>  Adj. R-squared:    </th> <td>   0.767</td>\n",
       "</tr>\n",
       "<tr>\n",
       "  <th>Method:</th>             <td>Least Squares</td>  <th>  F-statistic:       </th> <td>   150.3</td>\n",
       "</tr>\n",
       "<tr>\n",
       "  <th>Date:</th>             <td>Sat, 09 Oct 2021</td> <th>  Prob (F-statistic):</th> <td>8.26e-56</td>\n",
       "</tr>\n",
       "<tr>\n",
       "  <th>Time:</th>                 <td>14:17:02</td>     <th>  Log-Likelihood:    </th> <td> -250.30</td>\n",
       "</tr>\n",
       "<tr>\n",
       "  <th>No. Observations:</th>      <td>   182</td>      <th>  AIC:               </th> <td>   510.6</td>\n",
       "</tr>\n",
       "<tr>\n",
       "  <th>Df Residuals:</th>          <td>   177</td>      <th>  BIC:               </th> <td>   526.6</td>\n",
       "</tr>\n",
       "<tr>\n",
       "  <th>Df Model:</th>              <td>     4</td>      <th>                     </th>     <td> </td>   \n",
       "</tr>\n",
       "<tr>\n",
       "  <th>Covariance Type:</th>      <td>nonrobust</td>    <th>                     </th>     <td> </td>   \n",
       "</tr>\n",
       "</table>\n",
       "<table class=\"simpletable\">\n",
       "<tr>\n",
       "         <td></td>            <th>coef</th>     <th>std err</th>      <th>t</th>      <th>P>|t|</th>  <th>[0.025</th>    <th>0.975]</th>  \n",
       "</tr>\n",
       "<tr>\n",
       "  <th>region[Africa]</th>  <td>   18.2658</td> <td>    1.168</td> <td>   15.639</td> <td> 0.000</td> <td>   15.961</td> <td>   20.571</td>\n",
       "</tr>\n",
       "<tr>\n",
       "  <th>region[America]</th> <td>   17.0859</td> <td>    1.315</td> <td>   12.990</td> <td> 0.000</td> <td>   14.490</td> <td>   19.682</td>\n",
       "</tr>\n",
       "<tr>\n",
       "  <th>region[Asia]</th>    <td>   17.8647</td> <td>    1.279</td> <td>   13.971</td> <td> 0.000</td> <td>   15.341</td> <td>   20.388</td>\n",
       "</tr>\n",
       "<tr>\n",
       "  <th>region[Europe]</th>  <td>   15.8722</td> <td>    1.352</td> <td>   11.739</td> <td> 0.000</td> <td>   13.204</td> <td>   18.541</td>\n",
       "</tr>\n",
       "<tr>\n",
       "  <th>age5_surviving</th>  <td>   -0.1419</td> <td>    0.014</td> <td>  -10.294</td> <td> 0.000</td> <td>   -0.169</td> <td>   -0.115</td>\n",
       "</tr>\n",
       "</table>\n",
       "<table class=\"simpletable\">\n",
       "<tr>\n",
       "  <th>Omnibus:</th>       <td>13.021</td> <th>  Durbin-Watson:     </th> <td>   1.947</td>\n",
       "</tr>\n",
       "<tr>\n",
       "  <th>Prob(Omnibus):</th> <td> 0.001</td> <th>  Jarque-Bera (JB):  </th> <td>  18.362</td>\n",
       "</tr>\n",
       "<tr>\n",
       "  <th>Skew:</th>          <td> 0.443</td> <th>  Prob(JB):          </th> <td>0.000103</td>\n",
       "</tr>\n",
       "<tr>\n",
       "  <th>Kurtosis:</th>      <td> 4.279</td> <th>  Cond. No.          </th> <td>3.25e+03</td>\n",
       "</tr>\n",
       "</table><br/><br/>Notes:<br/>[1] Standard Errors assume that the covariance matrix of the errors is correctly specified.<br/>[2] The condition number is large, 3.25e+03. This might indicate that there are<br/>strong multicollinearity or other numerical problems."
      ],
      "text/plain": [
       "<class 'statsmodels.iolib.summary.Summary'>\n",
       "\"\"\"\n",
       "                            OLS Regression Results                            \n",
       "==============================================================================\n",
       "Dep. Variable:       babies_per_woman   R-squared:                       0.773\n",
       "Model:                            OLS   Adj. R-squared:                  0.767\n",
       "Method:                 Least Squares   F-statistic:                     150.3\n",
       "Date:                Sat, 09 Oct 2021   Prob (F-statistic):           8.26e-56\n",
       "Time:                        14:17:02   Log-Likelihood:                -250.30\n",
       "No. Observations:                 182   AIC:                             510.6\n",
       "Df Residuals:                     177   BIC:                             526.6\n",
       "Df Model:                           4                                         \n",
       "Covariance Type:            nonrobust                                         \n",
       "===================================================================================\n",
       "                      coef    std err          t      P>|t|      [0.025      0.975]\n",
       "-----------------------------------------------------------------------------------\n",
       "region[Africa]     18.2658      1.168     15.639      0.000      15.961      20.571\n",
       "region[America]    17.0859      1.315     12.990      0.000      14.490      19.682\n",
       "region[Asia]       17.8647      1.279     13.971      0.000      15.341      20.388\n",
       "region[Europe]     15.8722      1.352     11.739      0.000      13.204      18.541\n",
       "age5_surviving     -0.1419      0.014    -10.294      0.000      -0.169      -0.115\n",
       "==============================================================================\n",
       "Omnibus:                       13.021   Durbin-Watson:                   1.947\n",
       "Prob(Omnibus):                  0.001   Jarque-Bera (JB):               18.362\n",
       "Skew:                           0.443   Prob(JB):                     0.000103\n",
       "Kurtosis:                       4.279   Cond. No.                     3.25e+03\n",
       "==============================================================================\n",
       "\n",
       "Notes:\n",
       "[1] Standard Errors assume that the covariance matrix of the errors is correctly specified.\n",
       "[2] The condition number is large, 3.25e+03. This might indicate that there are\n",
       "strong multicollinearity or other numerical problems.\n",
       "\"\"\""
      ]
     },
     "execution_count": 255,
     "metadata": {},
     "output_type": "execute_result"
    }
   ],
   "source": [
    "#  Just look at this summary for a fit.\n",
    "surviving.summary()"
   ]
  },
  {
   "cell_type": "markdown",
   "id": "eba61a68",
   "metadata": {},
   "source": [
    "#### Note:\n",
    "There are many numbers, statistics, and tests that can be computed for any model. Okay, let me show you one last thing. Certain key goodness of fit statistics are collected in what is known as an ANOVA table, where ANOVA stands for analysis of variance. We get the table from StatsModel stats.anova_lm. Let's see for group means. And again, don't worry about the warning. The first column, the F, shows the number of degrees of freedom, the number of parameters, and for the residual, the number of data points, minus the number of parameters. The sum squared and mean squared columns show the total and average explained in residual variance."
   ]
  },
  {
   "cell_type": "code",
   "execution_count": 256,
   "id": "25287d2c",
   "metadata": {},
   "outputs": [
    {
     "data": {
      "text/html": [
       "<div>\n",
       "<style scoped>\n",
       "    .dataframe tbody tr th:only-of-type {\n",
       "        vertical-align: middle;\n",
       "    }\n",
       "\n",
       "    .dataframe tbody tr th {\n",
       "        vertical-align: top;\n",
       "    }\n",
       "\n",
       "    .dataframe thead th {\n",
       "        text-align: right;\n",
       "    }\n",
       "</style>\n",
       "<table border=\"1\" class=\"dataframe\">\n",
       "  <thead>\n",
       "    <tr style=\"text-align: right;\">\n",
       "      <th></th>\n",
       "      <th>df</th>\n",
       "      <th>sum_sq</th>\n",
       "      <th>mean_sq</th>\n",
       "      <th>F</th>\n",
       "      <th>PR(&gt;F)</th>\n",
       "    </tr>\n",
       "  </thead>\n",
       "  <tbody>\n",
       "    <tr>\n",
       "      <th>region</th>\n",
       "      <td>4.0</td>\n",
       "      <td>3927.702839</td>\n",
       "      <td>981.925710</td>\n",
       "      <td>655.512121</td>\n",
       "      <td>2.604302e-105</td>\n",
       "    </tr>\n",
       "    <tr>\n",
       "      <th>Residual</th>\n",
       "      <td>178.0</td>\n",
       "      <td>266.635461</td>\n",
       "      <td>1.497952</td>\n",
       "      <td>NaN</td>\n",
       "      <td>NaN</td>\n",
       "    </tr>\n",
       "  </tbody>\n",
       "</table>\n",
       "</div>"
      ],
      "text/plain": [
       "             df       sum_sq     mean_sq           F         PR(>F)\n",
       "region      4.0  3927.702839  981.925710  655.512121  2.604302e-105\n",
       "Residual  178.0   266.635461    1.497952         NaN            NaN"
      ]
     },
     "execution_count": 256,
     "metadata": {},
     "output_type": "execute_result"
    }
   ],
   "source": [
    "sm.stats.anova_lm(groupmeans)"
   ]
  },
  {
   "cell_type": "markdown",
   "id": "762f75fc",
   "metadata": {},
   "source": [
    "####  \n",
    "We computed those already. The column F is the F statistic, and the last column is the P value for a known model with the same number of parameters as ours, but where all the terms are random. Clearly, the group means region explain a lot of the variance of the data, with a very high F statistic."
   ]
  },
  {
   "cell_type": "markdown",
   "id": "7d9fd3fc",
   "metadata": {},
   "source": [
    "#### Note:\n",
    "We now look at the ANOVA table for the surviving model. Adding the age five surviving variable explains a lot less of the variance, but the F statistic is still pretty high. And for our most complicated model, surviving by region population, we get even lower value for the F statistic for the different parameters, because they are sharing in the interpretation of the data. In the next video, we see a much simpler technique for machine learning to compare different models."
   ]
  },
  {
   "cell_type": "code",
   "execution_count": 257,
   "id": "35042072",
   "metadata": {},
   "outputs": [
    {
     "data": {
      "text/html": [
       "<div>\n",
       "<style scoped>\n",
       "    .dataframe tbody tr th:only-of-type {\n",
       "        vertical-align: middle;\n",
       "    }\n",
       "\n",
       "    .dataframe tbody tr th {\n",
       "        vertical-align: top;\n",
       "    }\n",
       "\n",
       "    .dataframe thead th {\n",
       "        text-align: right;\n",
       "    }\n",
       "</style>\n",
       "<table border=\"1\" class=\"dataframe\">\n",
       "  <thead>\n",
       "    <tr style=\"text-align: right;\">\n",
       "      <th></th>\n",
       "      <th>df</th>\n",
       "      <th>sum_sq</th>\n",
       "      <th>mean_sq</th>\n",
       "      <th>F</th>\n",
       "      <th>PR(&gt;F)</th>\n",
       "    </tr>\n",
       "  </thead>\n",
       "  <tbody>\n",
       "    <tr>\n",
       "      <th>region</th>\n",
       "      <td>4.0</td>\n",
       "      <td>3927.702839</td>\n",
       "      <td>981.925710</td>\n",
       "      <td>1042.049316</td>\n",
       "      <td>8.236854e-122</td>\n",
       "    </tr>\n",
       "    <tr>\n",
       "      <th>age5_surviving</th>\n",
       "      <td>1.0</td>\n",
       "      <td>99.847912</td>\n",
       "      <td>99.847912</td>\n",
       "      <td>105.961630</td>\n",
       "      <td>9.003514e-20</td>\n",
       "    </tr>\n",
       "    <tr>\n",
       "      <th>Residual</th>\n",
       "      <td>177.0</td>\n",
       "      <td>166.787548</td>\n",
       "      <td>0.942303</td>\n",
       "      <td>NaN</td>\n",
       "      <td>NaN</td>\n",
       "    </tr>\n",
       "  </tbody>\n",
       "</table>\n",
       "</div>"
      ],
      "text/plain": [
       "                   df       sum_sq     mean_sq            F         PR(>F)\n",
       "region            4.0  3927.702839  981.925710  1042.049316  8.236854e-122\n",
       "age5_surviving    1.0    99.847912   99.847912   105.961630   9.003514e-20\n",
       "Residual        177.0   166.787548    0.942303          NaN            NaN"
      ]
     },
     "execution_count": 257,
     "metadata": {},
     "output_type": "execute_result"
    }
   ],
   "source": [
    "sm.stats.anova_lm(surviving)"
   ]
  },
  {
   "cell_type": "code",
   "execution_count": 258,
   "id": "9ea75a69",
   "metadata": {},
   "outputs": [
    {
     "data": {
      "text/html": [
       "<div>\n",
       "<style scoped>\n",
       "    .dataframe tbody tr th:only-of-type {\n",
       "        vertical-align: middle;\n",
       "    }\n",
       "\n",
       "    .dataframe tbody tr th {\n",
       "        vertical-align: top;\n",
       "    }\n",
       "\n",
       "    .dataframe thead th {\n",
       "        text-align: right;\n",
       "    }\n",
       "</style>\n",
       "<table border=\"1\" class=\"dataframe\">\n",
       "  <thead>\n",
       "    <tr style=\"text-align: right;\">\n",
       "      <th></th>\n",
       "      <th>df</th>\n",
       "      <th>sum_sq</th>\n",
       "      <th>mean_sq</th>\n",
       "      <th>F</th>\n",
       "      <th>PR(&gt;F)</th>\n",
       "    </tr>\n",
       "  </thead>\n",
       "  <tbody>\n",
       "    <tr>\n",
       "      <th>region</th>\n",
       "      <td>4.0</td>\n",
       "      <td>3927.702839</td>\n",
       "      <td>981.925710</td>\n",
       "      <td>1157.900225</td>\n",
       "      <td>1.132132e-123</td>\n",
       "    </tr>\n",
       "    <tr>\n",
       "      <th>age5_surviving:region</th>\n",
       "      <td>4.0</td>\n",
       "      <td>110.113541</td>\n",
       "      <td>27.528385</td>\n",
       "      <td>32.461848</td>\n",
       "      <td>3.514845e-20</td>\n",
       "    </tr>\n",
       "    <tr>\n",
       "      <th>population</th>\n",
       "      <td>1.0</td>\n",
       "      <td>9.813987</td>\n",
       "      <td>9.813987</td>\n",
       "      <td>11.572788</td>\n",
       "      <td>8.313090e-04</td>\n",
       "    </tr>\n",
       "    <tr>\n",
       "      <th>Residual</th>\n",
       "      <td>173.0</td>\n",
       "      <td>146.707932</td>\n",
       "      <td>0.848023</td>\n",
       "      <td>NaN</td>\n",
       "      <td>NaN</td>\n",
       "    </tr>\n",
       "  </tbody>\n",
       "</table>\n",
       "</div>"
      ],
      "text/plain": [
       "                          df       sum_sq     mean_sq            F  \\\n",
       "region                   4.0  3927.702839  981.925710  1157.900225   \n",
       "age5_surviving:region    4.0   110.113541   27.528385    32.461848   \n",
       "population               1.0     9.813987    9.813987    11.572788   \n",
       "Residual               173.0   146.707932    0.848023          NaN   \n",
       "\n",
       "                              PR(>F)  \n",
       "region                 1.132132e-123  \n",
       "age5_surviving:region   3.514845e-20  \n",
       "population              8.313090e-04  \n",
       "Residual                         NaN  "
      ]
     },
     "execution_count": 258,
     "metadata": {},
     "output_type": "execute_result"
    }
   ],
   "source": [
    "sm.stats.anova_lm(surviving_byregion_population)"
   ]
  },
  {
   "cell_type": "markdown",
   "id": "25af428f",
   "metadata": {},
   "source": [
    "## 5.4 Crossvalidation"
   ]
  },
  {
   "cell_type": "markdown",
   "id": "629e8843",
   "metadata": {},
   "source": [
    "#### \n",
    "In the last video we saw a few classical analytics have it techniques to have it with goodness of fit, and to compare models based on their explanatory power and simplicity. Now I want to show you how to implement a much simpler strategy known as Cross Validation. Which is used in machine learning to compare models. We divide the data into a training set which we use to feed the model, and a testing set which we use to evaluate the models prediction error. So instead of concentrating on in-sample error as we do with classical techniques, we will look at how to sample prediction error. Models and accounts look better by over fitting the data they're trained on. Instead they need to in some sense understand something about the world. I have all ready included code to load our data set. I import packages. And since we will be splitting our data I have refactored the plotting so it works on arbitrary data. I have also copied the model formulas alone from the last two videos. "
   ]
  },
  {
   "cell_type": "code",
   "execution_count": 380,
   "id": "fb1a6137",
   "metadata": {},
   "outputs": [],
   "source": [
    "gdata = gapminder.query('year == 1985')"
   ]
  },
  {
   "cell_type": "code",
   "execution_count": 381,
   "id": "34055969",
   "metadata": {},
   "outputs": [],
   "source": [
    "def sc(data):\n",
    "    return 1e-6 * data.population, data.region.map({'Africa': 'skyblue', 'Europe': 'gold', 'America': 'palegreen', 'Asia': 'coral'})\n",
    "\n",
    "\n",
    "def plotdata(data=gdata):\n",
    "    size, colors = sc(data)\n",
    "    data.plot.scatter('age5_surviving', 'babies_per_woman', c=colors, s=size, linewidth=0.5, edgecolor='k', alpha=0.5)\n",
    "    \n",
    "def plotfit(fit, data=gdata):\n",
    "    plotdata(data)\n",
    "    \n",
    "    size, colors = sc(data)\n",
    "    plt.scatter(data.age5_surviving, fit.predict(data), c=colors, s=30, linewidth=0.5, edgecolor='k', marker = 'D')\n",
    "       \n",
    "   "
   ]
  },
  {
   "cell_type": "code",
   "execution_count": 382,
   "id": "d2dd881e",
   "metadata": {},
   "outputs": [],
   "source": [
    "f_groupmeans = 'babies_per_woman ~ -1 + region'\n",
    "f_surviving = 'babies_per_woman ~ -1 + region + age5_surviving'\n",
    "f_srp = ('babies_per_woman ~ -1 + region + age5_surviving' '+ age5_surviving:region - age5_surviving + population')"
   ]
  },
  {
   "cell_type": "markdown",
   "id": "4f3f6779",
   "metadata": {},
   "source": [
    "#### Note: \n",
    "To divide up our data we first shuffle it with a Panda's data frame method sample. The resulting data search should be the same length as the original. And there is no replacement this time. Then we can use the Panda's locator iloc which goes by row number to divide the rows in two. Enter your division with a double slash and it shows I have a proper index. We now fit the model to the training data. Using one of our formulas. I plot the result. The in-sample in square there is .71. We now tryout the model on the testing data. Plotfit contains a call to stats model predict we generate a moderate response for this particular data set. We see the data points are different, but the fit is comparable. "
   ]
  },
  {
   "cell_type": "code",
   "execution_count": 383,
   "id": "220aeffd",
   "metadata": {},
   "outputs": [],
   "source": [
    "shuffled = gdata.sample(len(gdata))"
   ]
  },
  {
   "cell_type": "code",
   "execution_count": 384,
   "id": "61590781",
   "metadata": {},
   "outputs": [],
   "source": [
    "training, testing = shuffled.iloc[:len(gdata) // 2], shuffled.iloc[len(gdata) // 2:]"
   ]
  },
  {
   "cell_type": "code",
   "execution_count": 385,
   "id": "bc19da9f",
   "metadata": {},
   "outputs": [],
   "source": [
    "surviving = smf.ols(f_surviving, data=training).fit()"
   ]
  },
  {
   "cell_type": "code",
   "execution_count": 386,
   "id": "d6f05ac2",
   "metadata": {},
   "outputs": [
    {
     "data": {
      "image/png": "[encoded data removed]",
      "text/plain": [
       "<Figure size 432x288 with 1 Axes>"
      ]
     },
     "metadata": {
      "needs_background": "light"
     },
     "output_type": "display_data"
    }
   ],
   "source": [
    "plotfit(surviving, training)"
   ]
  },
  {
   "cell_type": "markdown",
   "id": "e147aa8f",
   "metadata": {},
   "source": [
    "#### Note:\n",
    "To obtain the mean square there we need to do a little work. We first compute the residuals. May apply modern prediction to the testing data set. We subtract the observe data. Now we compute the number of degrees of freedom, which is the length of the data, minus the number of parameters in the model. Minus one since the number of parameters doesn't count the constant, but we should. Finally, we square up the residuals, sum them, and divide by the number of degrees of freedom. The mean square on the testing data is a little higher since now there's no over fitting. "
   ]
  },
  {
   "cell_type": "code",
   "execution_count": 387,
   "id": "5eac7f27",
   "metadata": {},
   "outputs": [
    {
     "data": {
      "text/plain": [
       "1.1942426215071775"
      ]
     },
     "execution_count": 387,
     "metadata": {},
     "output_type": "execute_result"
    }
   ],
   "source": [
    "resid = surviving.predict(testing) - testing.babies_per_woman\n",
    "df = len(testing) - surviving.df_model - 1\n",
    "np.sum(resid ** 2) / df"
   ]
  },
  {
   "cell_type": "markdown",
   "id": "76752e19",
   "metadata": {},
   "source": [
    "#### Note:\n",
    "So let's automate this procedure and use it on the three models. Since the results depend on the shuffling and are rather noisy, we'll repeat a few times and take the average. So I'll make a function that is generic in terms of the formula, of the response variable that we're looking at, and of the number of repititions. We repeat in times. And I'm going to take code from above and modify appropriately. It should let me add one more spot of originality by letting the data be arbitrary. So we shuffle. We divide in two. We train. And we compute the mean square there. We grab an arbitrary response viable column. And finally we collect all these numbers in a Python list. And return its average. Let's try this out. First on the simplest model."
   ]
  },
  {
   "cell_type": "code",
   "execution_count": 388,
   "id": "f7e158fc",
   "metadata": {},
   "outputs": [],
   "source": [
    "def cross_validate(data, formula, response, n=1000):\n",
    "    ret = []\n",
    "    \n",
    "    for i in range (n):\n",
    "        shuffled = data.sample(len(data))\n",
    "        training, testing = shuffled.iloc[:len(data) // 2], shuffled.iloc[len(data) // 2:]\n",
    "        trained = smf.ols(formula, data=training).fit()\n",
    "        \n",
    "        resid = trained.predict(testing) - testing[response]\n",
    "        df = len(testing) - trained.df_model - 1\n",
    "        mse = np.sum(resid ** 2) / df\n",
    "        \n",
    "        ret.append(mse)\n",
    "    return np.mean(ret)   "
   ]
  },
  {
   "cell_type": "markdown",
   "id": "00874cb3",
   "metadata": {},
   "source": [
    "#### Note:\n",
    "The response variable is always babies per women. On the next model. And on the most complicated one. Cross validation confirms the verdict of analytical goodness of fit measures. The model of intermediate complexity seems to hit the sweet spot in terms of explanatory power. In theory of all data analysts use k fold cross validation instead of dividing the data in two we divide it in k subsets, and then in k successive trials we hold out one of the subsets for testing and trains on all the rest. Finally, the k resulting models are averaged. K fold cross validation is supported in the Python package scikit-learn."
   ]
  },
  {
   "cell_type": "code",
   "execution_count": 389,
   "id": "090b580a",
   "metadata": {},
   "outputs": [
    {
     "data": {
      "text/plain": [
       "1.6550360706895895"
      ]
     },
     "execution_count": 389,
     "metadata": {},
     "output_type": "execute_result"
    }
   ],
   "source": [
    "cross_validate(gdata, f_groupmeans, 'babies_per_woman')"
   ]
  },
  {
   "cell_type": "code",
   "execution_count": 390,
   "id": "5b5dcb7c",
   "metadata": {},
   "outputs": [
    {
     "data": {
      "text/plain": [
       "1.0565952353123176"
      ]
     },
     "execution_count": 390,
     "metadata": {},
     "output_type": "execute_result"
    }
   ],
   "source": [
    "cross_validate(gdata, f_surviving, 'babies_per_woman')"
   ]
  },
  {
   "cell_type": "code",
   "execution_count": 391,
   "id": "56b15986",
   "metadata": {},
   "outputs": [
    {
     "data": {
      "text/plain": [
       "1.218759141390469"
      ]
     },
     "execution_count": 391,
     "metadata": {},
     "output_type": "execute_result"
    }
   ],
   "source": [
    "cross_validate(gdata, f_srp, 'babies_per_woman')"
   ]
  },
  {
   "cell_type": "markdown",
   "id": "295d201e",
   "metadata": {},
   "source": [
    "## 5.5 Logistic Regression"
   ]
  },
  {
   "cell_type": "markdown",
   "id": "f36091bf",
   "metadata": {},
   "source": [
    "#### Note:\n",
    "How can we perform model fitting when the response variables are categorical? To answer this question, I'll follow the discussion in David Kaplan's \"Statistical Modeling.\" An experiment with the smoking outcomes data set that we used in chapter three. So, I load packages and the data. I have already written a function to plot nicely the data and the fit predictions. And to improve the strength of our conclusions I have removed cases with age greater than 65, none of whom is alive after 20 years. If I convert the smoking outcome to a binary number it becomes possible to do ordinary least squares. We'll try that first. Although, we'll see that there is a much better way."
   ]
  },
  {
   "cell_type": "code",
   "execution_count": 5,
   "id": "14f82664",
   "metadata": {},
   "outputs": [],
   "source": [
    "import math\n",
    "import statsmodels\n",
    "import statsmodels.api as sm\n",
    "import statsmodels.formula.api as smf\n",
    "\n",
    "#fix error in some versions of statsmodels\n",
    "\n",
    "import scipy\n",
    "if not hasattr(scipy.stats, 'chisqprob'):\n",
    "    scipy.stats.chisqprob = lambda chisq, df: scipy.stats.chi2.sf(chisq, df)"
   ]
  },
  {
   "cell_type": "code",
   "execution_count": 6,
   "id": "ec55b4ba",
   "metadata": {},
   "outputs": [],
   "source": [
    "smoking = pd.read_csv('C:\\\\Projects\\Data Camp\\\\Chapter 5 linkedin Statistical modelling\\\\Ex_Files_Python_Statistics_EssT\\\\Exercise Files\\\\chapter5\\\\05_05\\\\whickham.csv')\n"
   ]
  },
  {
   "cell_type": "code",
   "execution_count": 434,
   "id": "d300e24e",
   "metadata": {},
   "outputs": [
    {
     "data": {
      "text/html": [
       "<div>\n",
       "<style scoped>\n",
       "    .dataframe tbody tr th:only-of-type {\n",
       "        vertical-align: middle;\n",
       "    }\n",
       "\n",
       "    .dataframe tbody tr th {\n",
       "        vertical-align: top;\n",
       "    }\n",
       "\n",
       "    .dataframe thead th {\n",
       "        text-align: right;\n",
       "    }\n",
       "</style>\n",
       "<table border=\"1\" class=\"dataframe\">\n",
       "  <thead>\n",
       "    <tr style=\"text-align: right;\">\n",
       "      <th></th>\n",
       "      <th>outcome</th>\n",
       "      <th>smoker</th>\n",
       "      <th>age</th>\n",
       "    </tr>\n",
       "  </thead>\n",
       "  <tbody>\n",
       "    <tr>\n",
       "      <th>0</th>\n",
       "      <td>Alive</td>\n",
       "      <td>Yes</td>\n",
       "      <td>23</td>\n",
       "    </tr>\n",
       "    <tr>\n",
       "      <th>1</th>\n",
       "      <td>Alive</td>\n",
       "      <td>Yes</td>\n",
       "      <td>18</td>\n",
       "    </tr>\n",
       "    <tr>\n",
       "      <th>2</th>\n",
       "      <td>Dead</td>\n",
       "      <td>Yes</td>\n",
       "      <td>71</td>\n",
       "    </tr>\n",
       "    <tr>\n",
       "      <th>3</th>\n",
       "      <td>Alive</td>\n",
       "      <td>No</td>\n",
       "      <td>67</td>\n",
       "    </tr>\n",
       "    <tr>\n",
       "      <th>4</th>\n",
       "      <td>Alive</td>\n",
       "      <td>No</td>\n",
       "      <td>64</td>\n",
       "    </tr>\n",
       "  </tbody>\n",
       "</table>\n",
       "</div>"
      ],
      "text/plain": [
       "  outcome smoker  age\n",
       "0   Alive    Yes   23\n",
       "1   Alive    Yes   18\n",
       "2    Dead    Yes   71\n",
       "3   Alive     No   67\n",
       "4   Alive     No   64"
      ]
     },
     "execution_count": 434,
     "metadata": {},
     "output_type": "execute_result"
    }
   ],
   "source": [
    "smoking.head()"
   ]
  },
  {
   "cell_type": "code",
   "execution_count": 435,
   "id": "c6298de6",
   "metadata": {},
   "outputs": [],
   "source": [
    "smoking = smoking[smoking.age < 65]"
   ]
  },
  {
   "cell_type": "code",
   "execution_count": 436,
   "id": "3c4a6882",
   "metadata": {},
   "outputs": [],
   "source": [
    "color = np.where(smoking.smoker == 'No', 'skyblue', 'coral')\n",
    "jitter = 0.05*(np.random.rand(len(smoking)) - 0.5)\n",
    "\n",
    "def plotfit(fit):\n",
    "    plt.scatter(smoking.age, smoking.outcome + jitter, c=color, linewidth=0.2, edgecolor='k', alpha=0.5)\n",
    "    plt.scatter(smoking.age, fit.predict(smoking), c=color, linewidth=0.2, edgecolor = 'gray', marker='d')\n",
    "\n",
    "    "
   ]
  },
  {
   "cell_type": "code",
   "execution_count": 437,
   "id": "25460be5",
   "metadata": {},
   "outputs": [],
   "source": [
    "#Here, I can use a Python trick. Multiplying a Boolean by an integer returns an integer\n",
    "\n",
    "smoking[\"outcome\"] = 1*(smoking[\"outcome\"] == \"Alive\")"
   ]
  },
  {
   "cell_type": "markdown",
   "id": "3bbd7660",
   "metadata": {},
   "source": [
    "#### Note:\n",
    "Let's fit a model that includes smoking status and age as main terms. The stats models, ordinary least squares, outcome, tilled, smoker plus age. Data will be the smoking data frame, and we can fit and assign to a variable. Let's see what our plot does."
   ]
  },
  {
   "cell_type": "code",
   "execution_count": 438,
   "id": "a73babbd",
   "metadata": {},
   "outputs": [],
   "source": [
    "ols_group_age = smf.ols('outcome ~ smoker + age', data=smoking).fit()"
   ]
  },
  {
   "cell_type": "code",
   "execution_count": 439,
   "id": "59e687bf",
   "metadata": {},
   "outputs": [
    {
     "data": {
      "image/png": "[encoded data removed]",
      "text/plain": [
       "<Figure size 432x288 with 1 Axes>"
      ]
     },
     "metadata": {
      "needs_background": "light"
     },
     "output_type": "display_data"
    }
   ],
   "source": [
    "plotfit(ols_group_age)"
   ]
  },
  {
   "cell_type": "code",
   "execution_count": 440,
   "id": "5c91be32",
   "metadata": {},
   "outputs": [
    {
     "data": {
      "text/plain": [
       "Intercept        1.264665\n",
       "smoker[T.Yes]   -0.038738\n",
       "age             -0.009615\n",
       "dtype: float64"
      ]
     },
     "execution_count": 440,
     "metadata": {},
     "output_type": "execute_result"
    }
   ],
   "source": [
    "ols_group_age.params"
   ]
  },
  {
   "cell_type": "markdown",
   "id": "ed8a2b33",
   "metadata": {},
   "source": [
    "#### \n",
    "The data is plotted as circles, with orange for smokers, and light blue for non-smokers. I have added some jitter, that is, I have moved the points randomly up and down so they don't all lie on top of each other. The fit is represented by the diamonds at the top. We do see there is an association between smoking and negative outcomes. The smoker term is negative."
   ]
  },
  {
   "cell_type": "markdown",
   "id": "42cbf0d9",
   "metadata": {},
   "source": [
    "#### Note:\n",
    "Let's see the ANOVA table. The association is not especially strong with an F-statistic of eight. You have confirmation of this in the confidence interval the stats models provides for the parameters. Those rely on specific mathematical assumptions about the data, so they should be taken with a grain of salt. The plot, however, shows a mathematical problem."
   ]
  },
  {
   "cell_type": "code",
   "execution_count": 441,
   "id": "72306b17",
   "metadata": {},
   "outputs": [
    {
     "data": {
      "text/html": [
       "<div>\n",
       "<style scoped>\n",
       "    .dataframe tbody tr th:only-of-type {\n",
       "        vertical-align: middle;\n",
       "    }\n",
       "\n",
       "    .dataframe tbody tr th {\n",
       "        vertical-align: top;\n",
       "    }\n",
       "\n",
       "    .dataframe thead th {\n",
       "        text-align: right;\n",
       "    }\n",
       "</style>\n",
       "<table border=\"1\" class=\"dataframe\">\n",
       "  <thead>\n",
       "    <tr style=\"text-align: right;\">\n",
       "      <th></th>\n",
       "      <th>df</th>\n",
       "      <th>sum_sq</th>\n",
       "      <th>mean_sq</th>\n",
       "      <th>F</th>\n",
       "      <th>PR(&gt;F)</th>\n",
       "    </tr>\n",
       "  </thead>\n",
       "  <tbody>\n",
       "    <tr>\n",
       "      <th>smoker</th>\n",
       "      <td>1.0</td>\n",
       "      <td>0.899981</td>\n",
       "      <td>0.899981</td>\n",
       "      <td>8.181417</td>\n",
       "      <td>4.314608e-03</td>\n",
       "    </tr>\n",
       "    <tr>\n",
       "      <th>age</th>\n",
       "      <td>1.0</td>\n",
       "      <td>17.713821</td>\n",
       "      <td>17.713821</td>\n",
       "      <td>161.030213</td>\n",
       "      <td>1.806638e-34</td>\n",
       "    </tr>\n",
       "    <tr>\n",
       "      <th>Residual</th>\n",
       "      <td>1068.0</td>\n",
       "      <td>117.483303</td>\n",
       "      <td>0.110003</td>\n",
       "      <td>NaN</td>\n",
       "      <td>NaN</td>\n",
       "    </tr>\n",
       "  </tbody>\n",
       "</table>\n",
       "</div>"
      ],
      "text/plain": [
       "              df      sum_sq    mean_sq           F        PR(>F)\n",
       "smoker       1.0    0.899981   0.899981    8.181417  4.314608e-03\n",
       "age          1.0   17.713821  17.713821  161.030213  1.806638e-34\n",
       "Residual  1068.0  117.483303   0.110003         NaN           NaN"
      ]
     },
     "execution_count": 441,
     "metadata": {},
     "output_type": "execute_result"
    }
   ],
   "source": [
    "sm.stats.anova_lm(ols_group_age)"
   ]
  },
  {
   "cell_type": "markdown",
   "id": "81caf9ff",
   "metadata": {},
   "source": [
    "#### Note:\n",
    "Some predicted outcomes are larger than one. How can we interpret that? What we need is a way to limit the output of the model to values zero and one, or perhaps even better, to values between zero and one that can be understood as the probability of one of the two outcomes. This is done by constructing models in the usual way and then applying a non-linear function to the output. One especially useful non-linear function is the exponential logistic transformation, exp over one plus exp. The process of fitting such a model is called logistic regression. Stat models implements it as logit. I write the same formula for the same data but fit with logit instead of ols. "
   ]
  },
  {
   "cell_type": "code",
   "execution_count": 442,
   "id": "52a0ae32",
   "metadata": {},
   "outputs": [
    {
     "data": {
      "text/html": [
       "<div>\n",
       "<style scoped>\n",
       "    .dataframe tbody tr th:only-of-type {\n",
       "        vertical-align: middle;\n",
       "    }\n",
       "\n",
       "    .dataframe tbody tr th {\n",
       "        vertical-align: top;\n",
       "    }\n",
       "\n",
       "    .dataframe thead th {\n",
       "        text-align: right;\n",
       "    }\n",
       "</style>\n",
       "<table border=\"1\" class=\"dataframe\">\n",
       "  <thead>\n",
       "    <tr style=\"text-align: right;\">\n",
       "      <th></th>\n",
       "      <th>0</th>\n",
       "      <th>1</th>\n",
       "    </tr>\n",
       "  </thead>\n",
       "  <tbody>\n",
       "    <tr>\n",
       "      <th>Intercept</th>\n",
       "      <td>1.198828</td>\n",
       "      <td>1.330503</td>\n",
       "    </tr>\n",
       "    <tr>\n",
       "      <th>smoker[T.Yes]</th>\n",
       "      <td>-0.078622</td>\n",
       "      <td>0.001146</td>\n",
       "    </tr>\n",
       "    <tr>\n",
       "      <th>age</th>\n",
       "      <td>-0.011102</td>\n",
       "      <td>-0.008129</td>\n",
       "    </tr>\n",
       "  </tbody>\n",
       "</table>\n",
       "</div>"
      ],
      "text/plain": [
       "                      0         1\n",
       "Intercept      1.198828  1.330503\n",
       "smoker[T.Yes] -0.078622  0.001146\n",
       "age           -0.011102 -0.008129"
      ]
     },
     "execution_count": 442,
     "metadata": {},
     "output_type": "execute_result"
    }
   ],
   "source": [
    "ols_group_age.conf_int()"
   ]
  },
  {
   "cell_type": "code",
   "execution_count": 443,
   "id": "9e09dfd3",
   "metadata": {},
   "outputs": [],
   "source": [
    "logit_smoker_age = smf.ols('outcome ~ smoker + age', data=smoking).fit()"
   ]
  },
  {
   "cell_type": "code",
   "execution_count": 444,
   "id": "7cdb6869",
   "metadata": {},
   "outputs": [
    {
     "data": {
      "image/png": "[encoded data removed]",
      "text/plain": [
       "<Figure size 432x288 with 1 Axes>"
      ]
     },
     "metadata": {
      "needs_background": "light"
     },
     "output_type": "display_data"
    }
   ],
   "source": [
    "plotfit(logit_smoker_age)"
   ]
  },
  {
   "cell_type": "markdown",
   "id": "faaac0da",
   "metadata": {},
   "source": [
    "#### \n",
    "Let's see a plot. We see now that the model is bounded between zero and one and it displays a non-linear behavior, even if we have all linear main terms. The criteria for logistic regression is not minimizing the mean-square error of the residuals. But rather interpreting the model response as a probability function and maximizing the resulting probability of the observed data. This is a form of maximum-likelihood estimation. So instead of the main square error the simplest way to characterize goodness of fit is the value of the likelihood. Stat models give us its logarithm. Because of the logistic transformation the model parameters are not directly comparable with the least-squares parameters."
   ]
  },
  {
   "cell_type": "code",
   "execution_count": 445,
   "id": "6d1f9e3e",
   "metadata": {},
   "outputs": [
    {
     "data": {
      "text/plain": [
       "-336.20040349762496"
      ]
     },
     "execution_count": 445,
     "metadata": {},
     "output_type": "execute_result"
    }
   ],
   "source": [
    "logit_smoker_age.llf"
   ]
  },
  {
   "cell_type": "code",
   "execution_count": 446,
   "id": "31e2aad4",
   "metadata": {},
   "outputs": [
    {
     "data": {
      "text/plain": [
       "Intercept        1.264665\n",
       "smoker[T.Yes]   -0.038738\n",
       "age             -0.009615\n",
       "dtype: float64"
      ]
     },
     "execution_count": 446,
     "metadata": {},
     "output_type": "execute_result"
    }
   ],
   "source": [
    "logit_smoker_age.params\n"
   ]
  },
  {
   "cell_type": "code",
   "execution_count": 448,
   "id": "c66a493a",
   "metadata": {},
   "outputs": [
    {
     "data": {
      "text/html": [
       "<div>\n",
       "<style scoped>\n",
       "    .dataframe tbody tr th:only-of-type {\n",
       "        vertical-align: middle;\n",
       "    }\n",
       "\n",
       "    .dataframe tbody tr th {\n",
       "        vertical-align: top;\n",
       "    }\n",
       "\n",
       "    .dataframe thead th {\n",
       "        text-align: right;\n",
       "    }\n",
       "</style>\n",
       "<table border=\"1\" class=\"dataframe\">\n",
       "  <thead>\n",
       "    <tr style=\"text-align: right;\">\n",
       "      <th></th>\n",
       "      <th>0</th>\n",
       "      <th>1</th>\n",
       "    </tr>\n",
       "  </thead>\n",
       "  <tbody>\n",
       "    <tr>\n",
       "      <th>Intercept</th>\n",
       "      <td>1.198828</td>\n",
       "      <td>1.330503</td>\n",
       "    </tr>\n",
       "    <tr>\n",
       "      <th>smoker[T.Yes]</th>\n",
       "      <td>-0.078622</td>\n",
       "      <td>0.001146</td>\n",
       "    </tr>\n",
       "    <tr>\n",
       "      <th>age</th>\n",
       "      <td>-0.011102</td>\n",
       "      <td>-0.008129</td>\n",
       "    </tr>\n",
       "  </tbody>\n",
       "</table>\n",
       "</div>"
      ],
      "text/plain": [
       "                      0         1\n",
       "Intercept      1.198828  1.330503\n",
       "smoker[T.Yes] -0.078622  0.001146\n",
       "age           -0.011102 -0.008129"
      ]
     },
     "execution_count": 448,
     "metadata": {},
     "output_type": "execute_result"
    }
   ],
   "source": [
    "logit_smoker_age.conf_int()"
   ]
  },
  {
   "cell_type": "code",
   "execution_count": 449,
   "id": "ffa1ec6c",
   "metadata": {},
   "outputs": [
    {
     "data": {
      "text/html": [
       "<table class=\"simpletable\">\n",
       "<caption>OLS Regression Results</caption>\n",
       "<tr>\n",
       "  <th>Dep. Variable:</th>         <td>outcome</td>     <th>  R-squared:         </th> <td>   0.137</td>\n",
       "</tr>\n",
       "<tr>\n",
       "  <th>Model:</th>                   <td>OLS</td>       <th>  Adj. R-squared:    </th> <td>   0.135</td>\n",
       "</tr>\n",
       "<tr>\n",
       "  <th>Method:</th>             <td>Least Squares</td>  <th>  F-statistic:       </th> <td>   84.61</td>\n",
       "</tr>\n",
       "<tr>\n",
       "  <th>Date:</th>             <td>Sat, 09 Oct 2021</td> <th>  Prob (F-statistic):</th> <td>7.80e-35</td>\n",
       "</tr>\n",
       "<tr>\n",
       "  <th>Time:</th>                 <td>16:43:58</td>     <th>  Log-Likelihood:    </th> <td> -336.20</td>\n",
       "</tr>\n",
       "<tr>\n",
       "  <th>No. Observations:</th>      <td>  1071</td>      <th>  AIC:               </th> <td>   678.4</td>\n",
       "</tr>\n",
       "<tr>\n",
       "  <th>Df Residuals:</th>          <td>  1068</td>      <th>  BIC:               </th> <td>   693.3</td>\n",
       "</tr>\n",
       "<tr>\n",
       "  <th>Df Model:</th>              <td>     2</td>      <th>                     </th>     <td> </td>   \n",
       "</tr>\n",
       "<tr>\n",
       "  <th>Covariance Type:</th>      <td>nonrobust</td>    <th>                     </th>     <td> </td>   \n",
       "</tr>\n",
       "</table>\n",
       "<table class=\"simpletable\">\n",
       "<tr>\n",
       "        <td></td>           <th>coef</th>     <th>std err</th>      <th>t</th>      <th>P>|t|</th>  <th>[0.025</th>    <th>0.975]</th>  \n",
       "</tr>\n",
       "<tr>\n",
       "  <th>Intercept</th>     <td>    1.2647</td> <td>    0.034</td> <td>   37.692</td> <td> 0.000</td> <td>    1.199</td> <td>    1.331</td>\n",
       "</tr>\n",
       "<tr>\n",
       "  <th>smoker[T.Yes]</th> <td>   -0.0387</td> <td>    0.020</td> <td>   -1.906</td> <td> 0.057</td> <td>   -0.079</td> <td>    0.001</td>\n",
       "</tr>\n",
       "<tr>\n",
       "  <th>age</th>           <td>   -0.0096</td> <td>    0.001</td> <td>  -12.690</td> <td> 0.000</td> <td>   -0.011</td> <td>   -0.008</td>\n",
       "</tr>\n",
       "</table>\n",
       "<table class=\"simpletable\">\n",
       "<tr>\n",
       "  <th>Omnibus:</th>       <td>259.066</td> <th>  Durbin-Watson:     </th> <td>   1.997</td> \n",
       "</tr>\n",
       "<tr>\n",
       "  <th>Prob(Omnibus):</th> <td> 0.000</td>  <th>  Jarque-Bera (JB):  </th> <td> 474.419</td> \n",
       "</tr>\n",
       "<tr>\n",
       "  <th>Skew:</th>          <td>-1.511</td>  <th>  Prob(JB):          </th> <td>9.58e-104</td>\n",
       "</tr>\n",
       "<tr>\n",
       "  <th>Kurtosis:</th>      <td> 4.222</td>  <th>  Cond. No.          </th> <td>    145.</td> \n",
       "</tr>\n",
       "</table><br/><br/>Notes:<br/>[1] Standard Errors assume that the covariance matrix of the errors is correctly specified."
      ],
      "text/plain": [
       "<class 'statsmodels.iolib.summary.Summary'>\n",
       "\"\"\"\n",
       "                            OLS Regression Results                            \n",
       "==============================================================================\n",
       "Dep. Variable:                outcome   R-squared:                       0.137\n",
       "Model:                            OLS   Adj. R-squared:                  0.135\n",
       "Method:                 Least Squares   F-statistic:                     84.61\n",
       "Date:                Sat, 09 Oct 2021   Prob (F-statistic):           7.80e-35\n",
       "Time:                        16:43:58   Log-Likelihood:                -336.20\n",
       "No. Observations:                1071   AIC:                             678.4\n",
       "Df Residuals:                    1068   BIC:                             693.3\n",
       "Df Model:                           2                                         \n",
       "Covariance Type:            nonrobust                                         \n",
       "=================================================================================\n",
       "                    coef    std err          t      P>|t|      [0.025      0.975]\n",
       "---------------------------------------------------------------------------------\n",
       "Intercept         1.2647      0.034     37.692      0.000       1.199       1.331\n",
       "smoker[T.Yes]    -0.0387      0.020     -1.906      0.057      -0.079       0.001\n",
       "age              -0.0096      0.001    -12.690      0.000      -0.011      -0.008\n",
       "==============================================================================\n",
       "Omnibus:                      259.066   Durbin-Watson:                   1.997\n",
       "Prob(Omnibus):                  0.000   Jarque-Bera (JB):              474.419\n",
       "Skew:                          -1.511   Prob(JB):                    9.58e-104\n",
       "Kurtosis:                       4.222   Cond. No.                         145.\n",
       "==============================================================================\n",
       "\n",
       "Notes:\n",
       "[1] Standard Errors assume that the covariance matrix of the errors is correctly specified.\n",
       "\"\"\""
      ]
     },
     "execution_count": 449,
     "metadata": {},
     "output_type": "execute_result"
    }
   ],
   "source": [
    "logit_smoker_age.summary()"
   ]
  },
  {
   "cell_type": "markdown",
   "id": "e8a7044a",
   "metadata": {},
   "source": [
    "####  \n",
    "Smoking reduces the probability of being alive, but not uniformly. It does so by .1 at the upper end of the ages, and less for younger subjects. From the confidence intervals we see that the association with smoking remains weak. Stats models can tell us a lot more about this logistic regression fit. But understanding these numbers, this requires some mathematical development. Note that the logistic model probabilities are conditional probabilities. They depend on the value of explanatory variables and they refer directly to the cases in the data set, but not necessarily to the general population. Unless we can determine that the sample is truly representative of the population. The techniques to extrapolate the results from sample to population are beyond the scope of this course. But I encourage to learn more about them."
   ]
  },
  {
   "cell_type": "markdown",
   "id": "5d65c1ab",
   "metadata": {},
   "source": [
    "## 5.6 Bayesian Inference"
   ]
  },
  {
   "cell_type": "markdown",
   "id": "dddf773b",
   "metadata": {},
   "source": [
    "#### \n",
    "Bayesian inference takes a very different viewpoint from anything else we've seen so far. Instead of estimating from the data a single value for the population parameters, we characterize them with entire probability distributions which represent our knowledge and our uncertainty about them. So we start with the prior probability which represents what we already know about the parameters, if anything. We make observations, and we use the observations to update the prior into posterior probability. Here's a silly example. Suppose my cat hid behind one of two doors, I don't know which, so my priors were probability of 50% for each door. If however, I observe the tail, I'm able to update these probabilities to 100% for door one, and 0% for door two. For more general distributions, the update rule is called Bayes' Theorem, and it involves multiplying the prior by the likelihood. The likelihood describes the observations, how likely they are, given a certain value of the parameters. This simple rule is sufficient to generate 90% of Bayesian inference, but the computation may be hard. And in fact, before computers, it was too hard for many statisticians to take Bayesian inference seriously. So what can we do with Python? I'm going to introduce a very powerful package for Bayesian inference, pymc3. Let me load a few packages."
   ]
  },
  {
   "cell_type": "code",
   "execution_count": 7,
   "id": "c5762084",
   "metadata": {},
   "outputs": [
    {
     "name": "stderr",
     "output_type": "stream",
     "text": [
      "WARNING (theano.configdefaults): g++ not available, if using conda: `conda install m2w64-toolchain`\n",
      "WARNING (theano.configdefaults): g++ not detected ! Theano will be unable to execute optimized C-implementations (for both CPU and GPU) and will default to Python implementations. Performance will be severely degraded. To remove this warning, set Theano flags cxx to an empty string.\n",
      "WARNING (theano.tensor.blas): Using NumPy C-API based implementation for BLAS functions.\n"
     ]
    }
   ],
   "source": [
    "import pymc3 as pm"
   ]
  },
  {
   "cell_type": "markdown",
   "id": "7d9d3c86",
   "metadata": {},
   "source": [
    "#### Note:\n",
    "I'm going to do a classic Bayesian problem. I have a single coin and I'm suspicious that it's not fair, that is, throwing it repeatedly may return heads between 40% and 80% of the time instead of 50%. So I have thrown the coins 100 times, and I found 61 heads. Now I create my pymc3 model. This is done by setting up a Python context. And then running pymc3 instructions inside a context. p will be the actual fraction that heads comes up for this coin. My prior for it is that it's uniformly distributed between 40% and 80%. Next, my actual observations, the binomial distribution describes the probability of observing k events over n trials if each event has a probability, p, n trials, probability, p, and our observation is k. And finally we sample the posterior, that is, we ask pymc3 to generate a large set of population parameters, which will be approximately distributed according to the posterior. This set of parameters is called a trace. Pymc3 may take a little while to do the sampling, especially the first time."
   ]
  },
  {
   "cell_type": "code",
   "execution_count": 8,
   "id": "67fa859e",
   "metadata": {},
   "outputs": [
    {
     "name": "stderr",
     "output_type": "stream",
     "text": [
      "<ipython-input-8-269003f5df22>:9: FutureWarning: In v4.0, pm.sample will return an `arviz.InferenceData` object instead of a `MultiTrace` by default. You can pass return_inferencedata=True or return_inferencedata=False to be safe and silence this warning.\n",
      "  trace = pm.sample(10000)\n",
      "Auto-assigning NUTS sampler...\n",
      "Initializing NUTS using jitter+adapt_diag...\n",
      "Multiprocess sampling (2 chains in 2 jobs)\n",
      "NUTS: [p]\n"
     ]
    },
    {
     "data": {
      "text/html": [
       "\n",
       "    <div>\n",
       "        <style>\n",
       "            /* Turns off some styling */\n",
       "            progress {\n",
       "                /* gets rid of default border in Firefox and Opera. */\n",
       "                border: none;\n",
       "                /* Needs to be in here for Safari polyfill so background images work as expected. */\n",
       "                background-size: auto;\n",
       "            }\n",
       "            .progress-bar-interrupted, .progress-bar-interrupted::-webkit-progress-bar {\n",
       "                background: #F44336;\n",
       "            }\n",
       "        </style>\n",
       "      <progress value='22000' class='' max='22000' style='width:300px; height:20px; vertical-align: middle;'></progress>\n",
       "      100.00% [22000/22000 00:44<00:00 Sampling 2 chains, 0 divergences]\n",
       "    </div>\n",
       "    "
      ],
      "text/plain": [
       "<IPython.core.display.HTML object>"
      ]
     },
     "metadata": {},
     "output_type": "display_data"
    },
    {
     "name": "stderr",
     "output_type": "stream",
     "text": [
      "Sampling 2 chains for 1_000 tune and 10_000 draw iterations (2_000 + 20_000 draws total) took 54 seconds.\n",
      "Got error No model on context stack. trying to find log_likelihood in translation.\n",
      "C:\\Users\\archu\\anaconda3\\lib\\site-packages\\arviz\\data\\io_pymc3_3x.py:98: FutureWarning: Using `from_pymc3` without the model will be deprecated in a future release. Not using the model will return less accurate and less useful results. Make sure you use the model argument or call from_pymc3 within a model context.\n",
      "  warnings.warn(\n"
     ]
    },
    {
     "data": {
      "text/html": [
       "<div>\n",
       "<style scoped>\n",
       "    .dataframe tbody tr th:only-of-type {\n",
       "        vertical-align: middle;\n",
       "    }\n",
       "\n",
       "    .dataframe tbody tr th {\n",
       "        vertical-align: top;\n",
       "    }\n",
       "\n",
       "    .dataframe thead th {\n",
       "        text-align: right;\n",
       "    }\n",
       "</style>\n",
       "<table border=\"1\" class=\"dataframe\">\n",
       "  <thead>\n",
       "    <tr style=\"text-align: right;\">\n",
       "      <th></th>\n",
       "      <th>mean</th>\n",
       "      <th>sd</th>\n",
       "      <th>hdi_3%</th>\n",
       "      <th>hdi_97%</th>\n",
       "      <th>mcse_mean</th>\n",
       "      <th>mcse_sd</th>\n",
       "      <th>ess_bulk</th>\n",
       "      <th>ess_tail</th>\n",
       "      <th>r_hat</th>\n",
       "    </tr>\n",
       "  </thead>\n",
       "  <tbody>\n",
       "    <tr>\n",
       "      <th>p</th>\n",
       "      <td>0.608</td>\n",
       "      <td>0.049</td>\n",
       "      <td>0.515</td>\n",
       "      <td>0.697</td>\n",
       "      <td>0.001</td>\n",
       "      <td>0.0</td>\n",
       "      <td>7814.0</td>\n",
       "      <td>12076.0</td>\n",
       "      <td>1.0</td>\n",
       "    </tr>\n",
       "  </tbody>\n",
       "</table>\n",
       "</div>"
      ],
      "text/plain": [
       "    mean     sd  hdi_3%  hdi_97%  mcse_mean  mcse_sd  ess_bulk  ess_tail  \\\n",
       "p  0.608  0.049   0.515    0.697      0.001      0.0    7814.0   12076.0   \n",
       "\n",
       "   r_hat  \n",
       "p    1.0  "
      ]
     },
     "execution_count": 8,
     "metadata": {},
     "output_type": "execute_result"
    }
   ],
   "source": [
    "n = 100\n",
    "k = 61\n",
    "\n",
    "with pm.Model() as coin_context:\n",
    "    p = pm.Uniform('p', 0.40, 0.80)\n",
    "    \n",
    "    y = pm.Binomial('y', n=n, p=p, observed=k)\n",
    "    \n",
    "    trace = pm.sample(10000)\n",
    "\n",
    "#Now I can ask it to summarize the posterior for me.\n",
    "pm.summary(trace)\n",
    "\n"
   ]
  },
  {
   "cell_type": "markdown",
   "id": "9882729e",
   "metadata": {},
   "source": [
    "#### \n",
    "The mean is 60%, that's the most probable value for the bias-ness of the coin. And the standard deviation is about 5%. The hpd, delimited credible interval, analog to a confidence interval, containing 95% of the probability."
   ]
  },
  {
   "cell_type": "code",
   "execution_count": 10,
   "id": "cc4e6f5f",
   "metadata": {},
   "outputs": [
    {
     "name": "stderr",
     "output_type": "stream",
     "text": [
      "<ipython-input-10-e12e9481f26b>:2: DeprecationWarning: The function `traceplot` from PyMC3 is just an alias for `plot_trace` from ArviZ. Please switch to `pymc3.plot_trace` or `arviz.plot_trace`.\n",
      "  pm.traceplot(trace)\n",
      "Got error No model on context stack. trying to find log_likelihood in translation.\n",
      "C:\\Users\\archu\\anaconda3\\lib\\site-packages\\arviz\\data\\io_pymc3_3x.py:98: FutureWarning: Using `from_pymc3` without the model will be deprecated in a future release. Not using the model will return less accurate and less useful results. Make sure you use the model argument or call from_pymc3 within a model context.\n",
      "  warnings.warn(\n",
      "Got error No model on context stack. trying to find log_likelihood in translation.\n"
     ]
    },
    {
     "data": {
      "text/plain": [
       "array([[<AxesSubplot:title={'center':'p'}>,\n",
       "        <AxesSubplot:title={'center':'p'}>]], dtype=object)"
      ]
     },
     "execution_count": 10,
     "metadata": {},
     "output_type": "execute_result"
    },
    {
     "data": {
      "image/png": "[encoded data removed]",
      "text/plain": [
       "<Figure size 864x144 with 2 Axes>"
      ]
     },
     "metadata": {
      "needs_background": "light"
     },
     "output_type": "display_data"
    }
   ],
   "source": [
    "#Pymc3 can also do a nice traceplot.\n",
    "pm.traceplot(trace)"
   ]
  },
  {
   "cell_type": "markdown",
   "id": "1ed98ed3",
   "metadata": {},
   "source": [
    "#### \n",
    "There are two curves here, because pymc3 ran two separate sound banks. The plot on the right shows all the values taken on by the parameter, p. Now we move on to Bayesian statistical modeling. "
   ]
  },
  {
   "cell_type": "markdown",
   "id": "211c5417",
   "metadata": {},
   "source": [
    "#### Note:\n",
    "And once again, we consider the gapminder data for child survival and babies per woman. So I read the dependents and I down-select to year 1985. To plot it better, I will sort the data by age5_surviving value. And let's do a very quick, very simple-minded plot. We've done much better."
   ]
  },
  {
   "cell_type": "code",
   "execution_count": 13,
   "id": "0af45d8e",
   "metadata": {},
   "outputs": [
    {
     "data": {
      "text/html": [
       "<div>\n",
       "<style scoped>\n",
       "    .dataframe tbody tr th:only-of-type {\n",
       "        vertical-align: middle;\n",
       "    }\n",
       "\n",
       "    .dataframe tbody tr th {\n",
       "        vertical-align: top;\n",
       "    }\n",
       "\n",
       "    .dataframe thead th {\n",
       "        text-align: right;\n",
       "    }\n",
       "</style>\n",
       "<table border=\"1\" class=\"dataframe\">\n",
       "  <thead>\n",
       "    <tr style=\"text-align: right;\">\n",
       "      <th></th>\n",
       "      <th>country</th>\n",
       "      <th>year</th>\n",
       "      <th>region</th>\n",
       "      <th>population</th>\n",
       "      <th>life_expectancy</th>\n",
       "      <th>age5_surviving</th>\n",
       "      <th>babies_per_woman</th>\n",
       "      <th>gdp_per_capita</th>\n",
       "      <th>gdp_per_day</th>\n",
       "    </tr>\n",
       "  </thead>\n",
       "  <tbody>\n",
       "    <tr>\n",
       "      <th>50</th>\n",
       "      <td>Afghanistan</td>\n",
       "      <td>1985</td>\n",
       "      <td>Asia</td>\n",
       "      <td>11630498.0</td>\n",
       "      <td>45.21</td>\n",
       "      <td>78.400</td>\n",
       "      <td>7.68</td>\n",
       "      <td>1384.0</td>\n",
       "      <td>3.789185</td>\n",
       "    </tr>\n",
       "    <tr>\n",
       "      <th>131</th>\n",
       "      <td>Albania</td>\n",
       "      <td>1985</td>\n",
       "      <td>Europe</td>\n",
       "      <td>2966799.0</td>\n",
       "      <td>72.71</td>\n",
       "      <td>94.570</td>\n",
       "      <td>3.23</td>\n",
       "      <td>4267.0</td>\n",
       "      <td>11.682409</td>\n",
       "    </tr>\n",
       "    <tr>\n",
       "      <th>212</th>\n",
       "      <td>Algeria</td>\n",
       "      <td>1985</td>\n",
       "      <td>Africa</td>\n",
       "      <td>22565908.0</td>\n",
       "      <td>67.18</td>\n",
       "      <td>92.880</td>\n",
       "      <td>5.98</td>\n",
       "      <td>11030.0</td>\n",
       "      <td>30.198494</td>\n",
       "    </tr>\n",
       "    <tr>\n",
       "      <th>293</th>\n",
       "      <td>Angola</td>\n",
       "      <td>1985</td>\n",
       "      <td>Africa</td>\n",
       "      <td>9745209.0</td>\n",
       "      <td>47.50</td>\n",
       "      <td>77.170</td>\n",
       "      <td>7.21</td>\n",
       "      <td>4117.0</td>\n",
       "      <td>11.271732</td>\n",
       "    </tr>\n",
       "    <tr>\n",
       "      <th>374</th>\n",
       "      <td>Antigua and Barbuda</td>\n",
       "      <td>1985</td>\n",
       "      <td>America</td>\n",
       "      <td>65744.0</td>\n",
       "      <td>72.13</td>\n",
       "      <td>96.946</td>\n",
       "      <td>2.09</td>\n",
       "      <td>11383.0</td>\n",
       "      <td>31.164956</td>\n",
       "    </tr>\n",
       "  </tbody>\n",
       "</table>\n",
       "</div>"
      ],
      "text/plain": [
       "                 country  year   region  population  life_expectancy  \\\n",
       "50           Afghanistan  1985     Asia  11630498.0            45.21   \n",
       "131              Albania  1985   Europe   2966799.0            72.71   \n",
       "212              Algeria  1985   Africa  22565908.0            67.18   \n",
       "293               Angola  1985   Africa   9745209.0            47.50   \n",
       "374  Antigua and Barbuda  1985  America     65744.0            72.13   \n",
       "\n",
       "     age5_surviving  babies_per_woman  gdp_per_capita  gdp_per_day  \n",
       "50           78.400              7.68          1384.0     3.789185  \n",
       "131          94.570              3.23          4267.0    11.682409  \n",
       "212          92.880              5.98         11030.0    30.198494  \n",
       "293          77.170              7.21          4117.0    11.271732  \n",
       "374          96.946              2.09         11383.0    31.164956  "
      ]
     },
     "execution_count": 13,
     "metadata": {},
     "output_type": "execute_result"
    }
   ],
   "source": [
    "gapminder = pd.read_csv('C:\\\\Projects\\\\Data Camp\\\\Chapter 5 linkedin Statistical modelling\\\\Ex_Files_Python_Statistics_EssT\\\\Exercise Files\\\\chapter5\\\\05_02\\\\gapminder.csv').query('year == 1985')\n",
    "gapminder.head()"
   ]
  },
  {
   "cell_type": "code",
   "execution_count": 17,
   "id": "e9611c95",
   "metadata": {},
   "outputs": [],
   "source": [
    "gdata = gapminder.query('year == 1985')\n",
    "gdata.sort_values(\"age5_surviving\", inplace=True)"
   ]
  },
  {
   "cell_type": "code",
   "execution_count": 18,
   "id": "cae914d3",
   "metadata": {},
   "outputs": [
    {
     "data": {
      "text/plain": [
       "<matplotlib.collections.PathCollection at 0x1daeb914610>"
      ]
     },
     "execution_count": 18,
     "metadata": {},
     "output_type": "execute_result"
    },
    {
     "data": {
      "image/png": "[encoded data removed]",
      "text/plain": [
       "<Figure size 432x288 with 1 Axes>"
      ]
     },
     "metadata": {
      "needs_background": "light"
     },
     "output_type": "display_data"
    }
   ],
   "source": [
    "plt.scatter(gdata[\"age5_surviving\"], gdata[\"babies_per_woman\"])"
   ]
  },
  {
   "cell_type": "markdown",
   "id": "b7a954d9",
   "metadata": {},
   "source": [
    "#### Note:\n",
    "This downward trend is what we'll need to reproduce. So I will put together a very simple model, just a intercept, and a main term, a slope, for age5_surviving. So I open a context and write the priors. For the intercept, I can figure out from the plot, that there should be about 10 where survival is 65%, so I will have a uniform prior between five and 15. For the slope, I can again figure out from the plot, that it should be somewhere around a few tenths. So let's do minus one to one. Next, I define the observations. This will be normally distributed around the model, that is, I allow each data value to have a random measurement error with normal distribution. This is the simplest, most likely hypothesis. Errors are very important in Bayesian inference. The center here, called nu, of the normal distribution, would then be the intercept, plus the slope, times my explanatory variable, which I am referring to 65%. I'll take the standard deviation of the measurement error to be one. And finally, my observation. All done, and I can sample. Don't worry about these messages. Or go look them up in the pymc3 documentation. So here's the summary and the traceplot. The posteriors are centered a little above 10 for the intercept, and close to minus .22 for the slope. We have a very good control over the uncertainty of the parameters. "
   ]
  },
  {
   "cell_type": "code",
   "execution_count": 27,
   "id": "800eac23",
   "metadata": {},
   "outputs": [
    {
     "name": "stderr",
     "output_type": "stream",
     "text": [
      "<ipython-input-27-37a77c3b01bc>:9: FutureWarning: In v4.0, pm.sample will return an `arviz.InferenceData` object instead of a `MultiTrace` by default. You can pass return_inferencedata=True or return_inferencedata=False to be safe and silence this warning.\n",
      "  trace = pm.sample(10000)\n",
      "Auto-assigning NUTS sampler...\n",
      "Initializing NUTS using jitter+adapt_diag...\n",
      "C:\\Users\\archu\\anaconda3\\lib\\site-packages\\theano\\tensor\\elemwise.py:826: RuntimeWarning: invalid value encountered in log\n",
      "  variables = ufunc(*ufunc_args, **ufunc_kwargs)\n",
      "Multiprocess sampling (2 chains in 2 jobs)\n",
      "NUTS: [slope, intercept]\n"
     ]
    },
    {
     "data": {
      "text/html": [
       "\n",
       "    <div>\n",
       "        <style>\n",
       "            /* Turns off some styling */\n",
       "            progress {\n",
       "                /* gets rid of default border in Firefox and Opera. */\n",
       "                border: none;\n",
       "                /* Needs to be in here for Safari polyfill so background images work as expected. */\n",
       "                background-size: auto;\n",
       "            }\n",
       "            .progress-bar-interrupted, .progress-bar-interrupted::-webkit-progress-bar {\n",
       "                background: #F44336;\n",
       "            }\n",
       "        </style>\n",
       "      <progress value='22000' class='' max='22000' style='width:300px; height:20px; vertical-align: middle;'></progress>\n",
       "      100.00% [22000/22000 27:09<00:00 Sampling 2 chains, 0 divergences]\n",
       "    </div>\n",
       "    "
      ],
      "text/plain": [
       "<IPython.core.display.HTML object>"
      ]
     },
     "metadata": {},
     "output_type": "display_data"
    },
    {
     "name": "stderr",
     "output_type": "stream",
     "text": [
      "Sampling 2 chains for 1_000 tune and 10_000 draw iterations (2_000 + 20_000 draws total) took 1640 seconds.\n",
      "The acceptance probability does not match the target. It is 0.8858267651431537, but should be close to 0.8. Try to increase the number of tuning steps.\n",
      "The number of effective samples is smaller than 25% for some parameters.\n"
     ]
    }
   ],
   "source": [
    "with pm.Model() as gapminder_context:\n",
    "    intercept = pm.Uniform(\"intercept\", 5, 15)\n",
    "    slope = pm.Uniform(\"slope\", -1, 1)\n",
    "    \n",
    "    babies = pm.Normal('babies',\n",
    "                      mu = intercept + slope * (gdata[\"age5_surviving\"] - 65),\n",
    "                      sd = 1,\n",
    "                      observed = gdata[\"babies_per_woman\"])\n",
    "    trace = pm.sample(10000)"
   ]
  },
  {
   "cell_type": "code",
   "execution_count": 30,
   "id": "769625cc",
   "metadata": {},
   "outputs": [
    {
     "name": "stderr",
     "output_type": "stream",
     "text": [
      "Got error No model on context stack. trying to find log_likelihood in translation.\n",
      "C:\\Users\\archu\\anaconda3\\lib\\site-packages\\arviz\\data\\io_pymc3_3x.py:98: FutureWarning: Using `from_pymc3` without the model will be deprecated in a future release. Not using the model will return less accurate and less useful results. Make sure you use the model argument or call from_pymc3 within a model context.\n",
      "  warnings.warn(\n"
     ]
    },
    {
     "data": {
      "text/html": [
       "<div>\n",
       "<style scoped>\n",
       "    .dataframe tbody tr th:only-of-type {\n",
       "        vertical-align: middle;\n",
       "    }\n",
       "\n",
       "    .dataframe tbody tr th {\n",
       "        vertical-align: top;\n",
       "    }\n",
       "\n",
       "    .dataframe thead th {\n",
       "        text-align: right;\n",
       "    }\n",
       "</style>\n",
       "<table border=\"1\" class=\"dataframe\">\n",
       "  <thead>\n",
       "    <tr style=\"text-align: right;\">\n",
       "      <th></th>\n",
       "      <th>mean</th>\n",
       "      <th>sd</th>\n",
       "      <th>hdi_3%</th>\n",
       "      <th>hdi_97%</th>\n",
       "      <th>mcse_mean</th>\n",
       "      <th>mcse_sd</th>\n",
       "      <th>ess_bulk</th>\n",
       "      <th>ess_tail</th>\n",
       "      <th>r_hat</th>\n",
       "    </tr>\n",
       "  </thead>\n",
       "  <tbody>\n",
       "    <tr>\n",
       "      <th>intercept</th>\n",
       "      <td>10.193</td>\n",
       "      <td>0.288</td>\n",
       "      <td>9.658</td>\n",
       "      <td>10.727</td>\n",
       "      <td>0.005</td>\n",
       "      <td>0.004</td>\n",
       "      <td>3162.0</td>\n",
       "      <td>3583.0</td>\n",
       "      <td>1.0</td>\n",
       "    </tr>\n",
       "    <tr>\n",
       "      <th>slope</th>\n",
       "      <td>-0.219</td>\n",
       "      <td>0.010</td>\n",
       "      <td>-0.239</td>\n",
       "      <td>-0.200</td>\n",
       "      <td>0.000</td>\n",
       "      <td>0.000</td>\n",
       "      <td>3155.0</td>\n",
       "      <td>3557.0</td>\n",
       "      <td>1.0</td>\n",
       "    </tr>\n",
       "  </tbody>\n",
       "</table>\n",
       "</div>"
      ],
      "text/plain": [
       "             mean     sd  hdi_3%  hdi_97%  mcse_mean  mcse_sd  ess_bulk  \\\n",
       "intercept  10.193  0.288   9.658   10.727      0.005    0.004    3162.0   \n",
       "slope      -0.219  0.010  -0.239   -0.200      0.000    0.000    3155.0   \n",
       "\n",
       "           ess_tail  r_hat  \n",
       "intercept    3583.0    1.0  \n",
       "slope        3557.0    1.0  "
      ]
     },
     "execution_count": 30,
     "metadata": {},
     "output_type": "execute_result"
    }
   ],
   "source": [
    "pm.summary(trace)"
   ]
  },
  {
   "cell_type": "markdown",
   "id": "fc9c4533",
   "metadata": {},
   "source": [
    "#### Note:\n",
    "Evaluated at the mean of the posterior, the model would look like this. I'm taking mean values from the posterior. And now I'll multiply by the explanatory variable. I will plot over the data. And that's our Bayesian fit. In fact, every point in the posterior corresponds to a slightly different model."
   ]
  },
  {
   "cell_type": "code",
   "execution_count": 31,
   "id": "3cf22fd8",
   "metadata": {},
   "outputs": [
    {
     "name": "stderr",
     "output_type": "stream",
     "text": [
      "<ipython-input-31-4b673fced3da>:1: DeprecationWarning: The function `traceplot` from PyMC3 is just an alias for `plot_trace` from ArviZ. Please switch to `pymc3.plot_trace` or `arviz.plot_trace`.\n",
      "  pm.traceplot(trace)\n",
      "Got error No model on context stack. trying to find log_likelihood in translation.\n",
      "C:\\Users\\archu\\anaconda3\\lib\\site-packages\\arviz\\data\\io_pymc3_3x.py:98: FutureWarning: Using `from_pymc3` without the model will be deprecated in a future release. Not using the model will return less accurate and less useful results. Make sure you use the model argument or call from_pymc3 within a model context.\n",
      "  warnings.warn(\n",
      "Got error No model on context stack. trying to find log_likelihood in translation.\n"
     ]
    },
    {
     "data": {
      "text/plain": [
       "array([[<AxesSubplot:title={'center':'intercept'}>,\n",
       "        <AxesSubplot:title={'center':'intercept'}>],\n",
       "       [<AxesSubplot:title={'center':'slope'}>,\n",
       "        <AxesSubplot:title={'center':'slope'}>]], dtype=object)"
      ]
     },
     "execution_count": 31,
     "metadata": {},
     "output_type": "execute_result"
    },
    {
     "data": {
      "image/png": "[encoded data removed]",
      "text/plain": [
       "<Figure size 864x288 with 4 Axes>"
      ]
     },
     "metadata": {
      "needs_background": "light"
     },
     "output_type": "display_data"
    }
   ],
   "source": [
    "pm.traceplot(trace)"
   ]
  },
  {
   "cell_type": "code",
   "execution_count": 32,
   "id": "bfee3fc0",
   "metadata": {},
   "outputs": [],
   "source": [
    "babies = trace[\"intercept\"].mean() + trace[\"slope\"].mean() * (gdata[\"age5_surviving\"] - 65)"
   ]
  },
  {
   "cell_type": "code",
   "execution_count": 33,
   "id": "95660fb8",
   "metadata": {},
   "outputs": [
    {
     "data": {
      "text/plain": [
       "[<matplotlib.lines.Line2D at 0x1daedf4c610>]"
      ]
     },
     "execution_count": 33,
     "metadata": {},
     "output_type": "execute_result"
    },
    {
     "data": {
      "image/png": "[encoded data removed]",
      "text/plain": [
       "<Figure size 432x288 with 1 Axes>"
      ]
     },
     "metadata": {
      "needs_background": "light"
     },
     "output_type": "display_data"
    }
   ],
   "source": [
    "plt.scatter(gdata[\"age5_surviving\"], gdata[\"babies_per_woman\"])\n",
    "plt.plot(gdata[\"age5_surviving\"], babies, 'C1')"
   ]
  },
  {
   "cell_type": "markdown",
   "id": "ea3faf1e",
   "metadata": {},
   "source": [
    "#### Note: \n",
    "We can plot them all together to visualize uncertainty. Let me copy some code, the data again, and then I will loop over points in the posterior. Let me do one more thing. Take every 50th point and also stop the iteration after 100 points. I can do that by adding another iterator here, range to 100, and also i to catch it. So then I repeat the calculation of the linear model and plot. Let's give it some transparency. Here is my bundle of models within the posterior. And that's all folks."
   ]
  },
  {
   "cell_type": "code",
   "execution_count": 34,
   "id": "4cfca23a",
   "metadata": {},
   "outputs": [
    {
     "data": {
      "image/png": "[encoded data removed]",
      "text/plain": [
       "<Figure size 432x288 with 1 Axes>"
      ]
     },
     "metadata": {
      "needs_background": "light"
     },
     "output_type": "display_data"
    }
   ],
   "source": [
    "plt.scatter(gdata[\"age5_surviving\"], gdata[\"babies_per_woman\"])\n",
    "\n",
    "for i, intercept, slope in zip(range(100), trace[\"intercept\"][::50],\n",
    "                               trace[\"slope\"][::50]):\n",
    "    babies = intercept + slope * (gdata[\"age5_surviving\"] - 65)\n",
    "    plt.plot(gdata[\"age5_surviving\"], babies, 'C1', alpha=0.05)"
   ]
  },
  {
   "cell_type": "markdown",
   "id": "9c13f136",
   "metadata": {},
   "source": [
    "#### Which of the following is correct?\n",
    "Residuals are differences between model values and observed response variables.\n",
    "\n",
    "\n",
    "A statistical model is a function of one or more explanatory variables, meant to reproduce a response variable.\n"
   ]
  },
  {
   "cell_type": "markdown",
   "id": "d042f163",
   "metadata": {},
   "source": [
    "####  Which of the following is not correct in the tilde notation used in statsmodels?\n",
    "\n",
    "\"response_var ~ -1 + explanatory_var\" for a linear model without a constant term  ; correct answer\n",
    "\n",
    "\n",
    "\"response_var ~ 1\" for a grand mean model\n",
    "\n",
    "\n",
    "\"response_var ~ 1:categorical_var\" for a group mean model"
   ]
  },
  {
   "cell_type": "markdown",
   "id": "c7ea3cc7",
   "metadata": {},
   "source": [
    "####  Which of the following is not available in the Results object returned by statmodels\n",
    "\n",
    "value of the f statistic, as \"results.f_value\"\n",
    "\n",
    "ANOVA table, as \"results.anova\"  correct answer\n",
    "\n",
    "mean-squared residual, as \"results.mse_resid\"\n",
    "\n",
    "best-fit model parameters, as \"results.params\""
   ]
  },
  {
   "cell_type": "markdown",
   "id": "dc7c6573",
   "metadata": {},
   "source": [
    "#### What best describes the idea of cross validation?\n",
    "Compare models by their squared error divided by the number of degrees of freedom.\n",
    "Compare models by the difference in best-fit model parameters, as computed on subsets of the data.\n",
    "Compare models by their out-of-sample error, computed over a testing set that was not used to train the models.\n"
   ]
  },
  {
   "cell_type": "markdown",
   "id": "fcf1504b",
   "metadata": {},
   "source": [
    "####  Logistic regression is used to fit models with binary categorical response variables\n",
    "Ans: True"
   ]
  },
  {
   "cell_type": "markdown",
   "id": "3c6cb488",
   "metadata": {},
   "source": [
    "####  Which of the following are true for Bayesian model fitting with pymc3?\n",
    "\n",
    "Observations are typically assimilated using the normal distribution, with mean set to the model (e.g., \"intercept + slope * data['x']), and standard deviation set to measurement error.\n",
    "                                                                                                  \n",
    "                                                                                                  \n",
    "Model parameters must be defined with priors, such as \"slope = pm.Uniform('slope',-1,1)\"\n",
    "                                                                                                  \n",
    "                                                                                                  \n",
    "Posterior distributions for the model parameters are plotted with \"pm.traceplot(trace)\", with \"trace\" the object returns by \"pm.sample()\"\n",
    "                                                                                                  \n",
    "                                                                                                  \n",
    "all of these answers  Correct answer"
   ]
  }
 ],
 "metadata": {
  "kernelspec": {
   "display_name": "Python 3",
   "language": "python",
   "name": "python3"
  },
  "language_info": {
   "codemirror_mode": {
    "name": "ipython",
    "version": 3
   },
   "file_extension": ".py",
   "mimetype": "text/x-python",
   "name": "python",
   "nbconvert_exporter": "python",
   "pygments_lexer": "ipython3",
   "version": "3.8.8"
  }
 },
 "nbformat": 4,
 "nbformat_minor": 5
}
